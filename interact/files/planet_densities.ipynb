{
 "cells": [
  {
   "cell_type": "markdown",
   "id": "2f132625",
   "metadata": {},
   "source": [
    "# Planet densities and distance"
   ]
  },
  {
   "cell_type": "markdown",
   "id": "16048512",
   "metadata": {},
   "source": [
    "We apply the logic of resampling to the problem of close and distant\n",
    "planets and their densities."
   ]
  },
  {
   "cell_type": "code",
   "execution_count": null,
   "id": "91908064",
   "metadata": {},
   "outputs": [],
   "source": [
    "import numpy as np\n",
    "\n",
    "rnd = np.random.default_rng()\n",
    "\n",
    "# Steps 1 and 2.\n",
    "actual_mean_diff = 8 / 2 - 7 / 3\n",
    "\n",
    "# Step 3\n",
    "ranks = np.arange(1, 6)\n",
    "\n",
    "n = 10_000\n",
    "\n",
    "mean_differences = np.zeros(n)\n",
    "\n",
    "for i in range(n):\n",
    "    # Step 4\n",
    "    shuffled = rnd.permuted(ranks)\n",
    "    # Step 5\n",
    "    closer = shuffled[:2]  # First 2\n",
    "    further = shuffled[2:] # Last 3\n",
    "    # Step 6\n",
    "    mean_close = np.mean(closer)\n",
    "    mean_far = np.mean(further)\n",
    "    # Step 7\n",
    "    mean_differences[i] = mean_close - mean_far\n",
    "\n",
    "# Step 9\n",
    "k = np.sum(mean_differences >= actual_mean_diff)\n",
    "prob = k / n\n",
    "\n",
    "print('Proportion of trials with mean difference >= 1.67:',\n",
    "      np.round(prob, 2))"
   ]
  },
  {
   "cell_type": "markdown",
   "id": "3d76a63a",
   "metadata": {},
   "source": [
    "Interpretation: 19 percent of the time, random shufflings produced a\n",
    "difference in ranks as great as or greater than observed. Hence, on the\n",
    "strength of this evidence, we should *not* conclude that there is a\n",
    "statistically surprising difference in densities between the further\n",
    "planets and the closer planets."
   ]
  }
 ],
 "metadata": {
  "jupytext": {
   "cell_metadata_filter": "-all",
   "main_language": "python",
   "notebook_metadata_filter": "-all"
  },
  "kernelspec": {
   "display_name": "Python (Pyodide)",
   "name": "python"
  }
 },
 "nbformat": 4,
 "nbformat_minor": 5
}
