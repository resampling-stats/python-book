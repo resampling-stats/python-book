{
 "cells": [
  {
   "cell_type": "markdown",
   "id": "cffad6ee",
   "metadata": {},
   "source": [
    "# Unemployment percent solution\n"
   ]
  },
  {
   "cell_type": "code",
   "execution_count": null,
   "id": "b5e5c182",
   "metadata": {},
   "outputs": [],
   "source": [
    "import numpy as np\n",
    "import matplotlib.pyplot as plt\n",
    "\n",
    "rnd = np.random.default_rng()\n",
    "\n",
    "n_trials = 10_000\n",
    "results = np.zeros(n_trials)\n",
    "\n",
    "for i in range(n_trials):\n",
    "    fake_people = rnd.choice(['no job', 'job'], size=200, p=[0.07, 0.93])\n",
    "    p_unemployed = np.sum(fake_people == 'no job') / 200\n",
    "    results[i] = p_unemployed\n",
    "\n",
    "plt.hist(results, bins=25)\n",
    "plt.title('Bootstrap distribution p unemployed')\n",
    "plt.xlabel('Bootstrap p unemployed')\n",
    "\n",
    "p_limits = np.quantile(results, [0.025, 0.975])\n",
    "\n",
    "print('95% percent limits for p differences:', p_limits)"
   ]
  }
 ],
 "metadata": {
  "jupytext": {
   "cell_metadata_filter": "-all",
   "main_language": "python",
   "notebook_metadata_filter": "-all"
  },
  "kernelspec": {
   "display_name": "Python (Pyodide)",
   "name": "python"
  }
 },
 "nbformat": 4,
 "nbformat_minor": 5
}
