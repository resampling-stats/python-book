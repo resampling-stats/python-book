{
 "cells": [
  {
   "cell_type": "markdown",
   "id": "b17312d2",
   "metadata": {},
   "source": [
    "# Sum of squared differences for pig rations"
   ]
  },
  {
   "cell_type": "markdown",
   "id": "db76f9fb",
   "metadata": {},
   "source": [
    "Here we are working on the question — are the observed differences\n",
    "between pig ration measured weight gains for different rations greater\n",
    "than we would expect to see as a result of random sampling in the\n",
    "null-world."
   ]
  },
  {
   "cell_type": "code",
   "execution_count": null,
   "id": "0297d63f",
   "metadata": {},
   "outputs": [],
   "source": [
    "import numpy as np\n",
    "import pandas as pd\n",
    "import matplotlib.pyplot as plt\n",
    "\n",
    "# Set up the random number generator.\n",
    "rnd = np.random.default_rng()\n",
    "\n",
    "# Load data file.y\n",
    "rations_df = pd.read_csv('data/pig_rations.csv')\n",
    "# Show the first five rows.\n",
    "rations_df.head()"
   ]
  },
  {
   "cell_type": "code",
   "execution_count": null,
   "id": "b7f293f7",
   "metadata": {},
   "outputs": [],
   "source": [
    "# Get arrays for each ration.\n",
    "# A\n",
    "a_rows = rations_df[rations_df['ration'] == 'A']\n",
    "a_weights = np.array(a_rows['weight_gain'])\n",
    "# B\n",
    "b_rows = rations_df[rations_df['ration'] == 'B']\n",
    "b_weights = np.array(b_rows['weight_gain'])\n",
    "# C\n",
    "c_rows = rations_df[rations_df['ration'] == 'C']\n",
    "c_weights = np.array(c_rows['weight_gain'])\n",
    "# D\n",
    "d_rows = rations_df[rations_df['ration'] == 'D']\n",
    "d_weights = np.array(d_rows['weight_gain'])\n",
    "# Concatenate into one long array.\n",
    "all_weights = np.concatenate([a_weights, b_weights, c_weights, d_weights])\n",
    "# Show the concatenated array.\n",
    "all_weights"
   ]
  },
  {
   "cell_type": "code",
   "execution_count": null,
   "id": "7408b5e7",
   "metadata": {},
   "outputs": [],
   "source": [
    "n_trials = 10_000\n",
    "\n",
    "# An array to store the result of each trial.\n",
    "results = np.zeros(n_trials)\n",
    "\n",
    "# Do 10000 trials\n",
    "for i in range(n_trials):\n",
    "    # Shuffle all the weight gains.\n",
    "    shuffled = rnd.permuted(all_weights)\n",
    "    # Split into 4 now random samples.\n",
    "    fake_a = shuffled[:12]\n",
    "    fake_b = shuffled[12:24]\n",
    "    fake_c = shuffled[24:36]\n",
    "    fake_d = shuffled[36:]\n",
    "    # Sum the weight gains for the 4 resamples.\n",
    "    sum_a = np.sum(fake_a)\n",
    "    sum_b = np.sum(fake_b)\n",
    "    sum_c = np.sum(fake_c)\n",
    "    sum_d = np.sum(fake_d)\n",
    "    # Find the differences between all the possible pairs of resamples.\n",
    "    a_b = sum_a - sum_b\n",
    "    a_c = sum_a - sum_c\n",
    "    a_d = sum_a - sum_d\n",
    "    b_c = sum_b - sum_c\n",
    "    b_d = sum_b - sum_d\n",
    "    c_d = sum_c - sum_d\n",
    "    # Put the differences into an array.\n",
    "    fake_diffs = np.array([a_b, a_c, a_d, b_c, b_d, c_d])\n",
    "    # Square them to give six squared differences.\n",
    "    sq_fake_diffs = fake_diffs ** 2\n",
    "    # Sum the squares.\n",
    "    sum_sq_fake_diffs = np.sum(sq_fake_diffs)\n",
    "    # Keep track of the total for each trial.\n",
    "    results[i] = sum_sq_fake_diffs\n",
    "    # End one trial, go back and repeat until 10000 trials are complete.\n",
    "\n",
    "# Produce a histogram of the trial results.\n",
    "plt.hist(results, bins=25)\n",
    "plt.title('Null distribution of sum of squared differences')\n",
    "plt.xlabel('Sum of squared differences in null world')\n",
    "\n",
    "# Find out how many trials produced differences among groups as great as\n",
    "# or greater than those observed.\n",
    "k = np.sum(results >= 5299)\n",
    "# Convert to a proportion.\n",
    "kk = k / n_trials\n",
    "# Print the result.\n",
    "print('Number of sum of squared differences >= 5299:', kk)"
   ]
  }
 ],
 "metadata": {
  "jupytext": {
   "cell_metadata_filter": "-all",
   "main_language": "python",
   "notebook_metadata_filter": "-all"
  },
  "kernelspec": {
   "display_name": "Python (Pyodide)",
   "name": "python"
  }
 },
 "nbformat": 4,
 "nbformat_minor": 5
}
