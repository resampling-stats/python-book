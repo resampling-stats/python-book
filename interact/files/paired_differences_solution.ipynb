{
 "cells": [
  {
   "cell_type": "markdown",
   "id": "69affa4b",
   "metadata": {},
   "source": [
    "# Paired differences solution\n"
   ]
  },
  {
   "cell_type": "code",
   "execution_count": null,
   "id": "a03621bf",
   "metadata": {},
   "outputs": [],
   "source": [
    "import numpy as np\n",
    "import pandas as pd\n",
    "\n",
    "rnd = np.random.default_rng()\n",
    "\n",
    "df = pd.read_csv('data/hamilton.csv')\n",
    "before = np.array(df['score_before'])\n",
    "after = np.array(df['score_after'])\n",
    "\n",
    "observed_diff = np.mean(after) - np.mean(before)\n",
    "\n",
    "# Let us start with a permutation test.\n",
    "both = np.concatenate([before, after])\n",
    "n_before = len(before)\n",
    "\n",
    "# Samples in the null world.\n",
    "n_trials = 10_000\n",
    "results = np.zeros(n_trials)\n",
    "for i in range(n_trials):\n",
    "    shuffled = rnd.permuted(both)\n",
    "    fake_before = shuffled[:n_before]\n",
    "    fake_after = shuffled[n_before:]\n",
    "    fake_diff = np.mean(fake_after) - np.mean(fake_before)\n",
    "    results[i] = fake_diff\n",
    "\n",
    "# We are interested in fake differences that are larger\n",
    "# in magnitude than the observed difference (hence \"abs\").\n",
    "# Here we have no prior hypothesis about which direction the difference\n",
    "# will go.\n",
    "k = np.sum(np.abs(results) >= np.abs(observed_diff))\n",
    "kk = k / n_trials\n",
    "print('Permutation p null-world abs >= abs observed:', kk)"
   ]
  },
  {
   "cell_type": "code",
   "execution_count": null,
   "id": "82af8eb4",
   "metadata": {},
   "outputs": [],
   "source": [
    "# Next a bootstrap test.\n",
    "n_after = len(after)  # Of course, in our case, this will be == n_before\n",
    "results = np.zeros(n_trials)\n",
    "for i in range(n_trials):\n",
    "    fake_before = rnd.choice(both, size=n_before)\n",
    "    fake_after = rnd.choice(both, size=n_after)\n",
    "    fake_diff = np.mean(fake_after) - np.mean(fake_before)\n",
    "    results[i] = fake_diff\n",
    "\n",
    "k = np.sum(np.abs(results) >= np.abs(observed_diff))\n",
    "kk = k / n_trials\n",
    "print('Bootstrap p null-world abs >= abs observed:', kk)"
   ]
  },
  {
   "cell_type": "markdown",
   "id": "9fad00da",
   "metadata": {},
   "source": [
    "Finally we consider the pairs. Here we *do* take the pairs into account.\n",
    "We have some reason to think that the patients or cars vary in some\n",
    "substantial way in their level of depression, or their tendency to break\n",
    "down, but we believe that the patients’ *response* to treatment or the\n",
    "difference between the mechanics is the value of interest.\n",
    "\n",
    "In that case, we are interested in the *differences* between the pairs.\n",
    "In the null world, these before / after (mechanic A / mechanic B)\n",
    "differences are random. In the null-world, where there is no difference\n",
    "between before/after or mechanics 1 and 2, we can flip the before /\n",
    "after (A / B) pairs and be in the same world.\n",
    "\n",
    "Notice that flipping the before / after or A / B in the pair just\n",
    "changes the sign of the difference.\n",
    "\n",
    "So we will simulate the effect of flipping the values in the pair, by\n",
    "choosing a random sign for the pair, where -1 means pair is flipped, and\n",
    "1 means pair is in original order. We recalculated the mean difference\n",
    "with these random signs (flips) applied, and these will be our values in\n",
    "the null-world."
   ]
  },
  {
   "cell_type": "code",
   "execution_count": null,
   "id": "8ed33b15",
   "metadata": {},
   "outputs": [],
   "source": [
    "# A test of paired difference with sign flips for the null world.\n",
    "differences = after - before\n",
    "observed_mdiff = np.mean(differences)\n",
    "n_both = len(differences)\n",
    "\n",
    "results = np.zeros(n_trials)\n",
    "for i in range(n_trials):\n",
    "    # Choose random signs to perform random flips of the pairs.\n",
    "    signs = rnd.choice([-1, 1], size=n_both)\n",
    "    # Do flips.\n",
    "    fake_differences = signs * differences\n",
    "    # Calculate mean difference and store result.\n",
    "    results[i] = np.mean(fake_differences)\n",
    "\n",
    "k = np.sum(np.abs(results) >= np.abs(observed_mdiff))\n",
    "kk = k / n_trials\n",
    "print('Sign-flip p null-world abs >= abs observed:', kk)"
   ]
  },
  {
   "cell_type": "markdown",
   "id": "50694716",
   "metadata": {},
   "source": [
    "Notice that the sign-flip test, in which we preserve the information\n",
    "about the patients / cars, is much more convincing than the permutation\n",
    "or bootstrap tests above, where we choose to ignore that information.\n",
    "\n",
    "This can occur when the values within the pairs (rows) are similar to\n",
    "each other, but less similar across different pairs (rows)."
   ]
  }
 ],
 "metadata": {
  "jupytext": {
   "cell_metadata_filter": "-all",
   "main_language": "python",
   "notebook_metadata_filter": "-all"
  },
  "kernelspec": {
   "display_name": "Python (Pyodide)",
   "name": "python"
  }
 },
 "nbformat": 4,
 "nbformat_minor": 5
}
