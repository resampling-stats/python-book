{
 "cells": [
  {
   "cell_type": "markdown",
   "id": "fc304632",
   "metadata": {},
   "source": [
    "# Seatbelt proportion solution\n"
   ]
  },
  {
   "cell_type": "code",
   "execution_count": null,
   "id": "4c6e89fa",
   "metadata": {},
   "outputs": [],
   "source": [
    "import numpy as np\n",
    "import matplotlib.pyplot as plt\n",
    "\n",
    "rnd = np.random.default_rng()\n",
    "\n",
    "pittsburgh = np.repeat(['seatbelt', 'none'], [36, 36])\n",
    "n_pitts = len(pittsburgh)\n",
    "chicago = np.repeat(['seatbelt', 'none'], [77, 52])\n",
    "n_chicago = len(chicago)\n",
    "\n",
    "n_trials = 10_000\n",
    "results = np.zeros(n_trials)\n",
    "\n",
    "for i in range(n_trials):\n",
    "    fake_pitts = rnd.choice(pittsburgh, size=n_pitts)\n",
    "    fake_chicago = rnd.choice(chicago, size=n_chicago)\n",
    "    fake_p_pitts = np.sum(fake_pitts == 'seatbelt') / n_pitts\n",
    "    fake_p_chicago = np.sum(fake_chicago == 'seatbelt') / n_chicago\n",
    "    fake_p_diff = fake_p_pitts - fake_p_chicago\n",
    "    results[i] = fake_p_diff\n",
    "\n",
    "plt.hist(results, bins=25)\n",
    "plt.title('Bootstrap distribution of p differences')\n",
    "plt.xlabel('Bootstrap p differences')\n",
    "\n",
    "p_limits = np.quantile(results, [0.025, 0.975])\n",
    "\n",
    "print('95% percent limits for p differences:', p_limits)"
   ]
  }
 ],
 "metadata": {
  "jupytext": {
   "cell_metadata_filter": "-all",
   "main_language": "python",
   "notebook_metadata_filter": "-all"
  }
 },
 "nbformat": 4,
 "nbformat_minor": 5
}
