{
 "cells": [
  {
   "cell_type": "markdown",
   "id": "f83c56dc",
   "metadata": {},
   "source": [
    "# Sampling error for pig ration weight gain via bootstrap"
   ]
  },
  {
   "cell_type": "markdown",
   "id": "cad5dd55",
   "metadata": {},
   "source": [
    "Use the bootstrap (resampling with replacement) procedure to estimate\n",
    "how much error to expect when taking samples of different sizes."
   ]
  },
  {
   "cell_type": "code",
   "execution_count": null,
   "id": "57255762",
   "metadata": {},
   "outputs": [],
   "source": [
    "import numpy as np\n",
    "import matplotlib.pyplot as plt\n",
    "\n",
    "rnd = np.random.default_rng()\n",
    "\n",
    "sampsize = 12\n",
    "\n",
    "gains = np.array([31, 34, 29, 26, 32, 35, 38, 34, 32, 31, 30, 29])\n",
    "\n",
    "n_trials = 10_000\n",
    "results = np.zeros(n_trials)\n",
    "\n",
    "for i in range(n_trials):\n",
    "    fake_gains = rnd.choice(gains, size=sampsize)\n",
    "    results[i] = np.mean(fake_gains)\n",
    "\n",
    "plt.hist(results, bins=25)\n",
    "plt.title('Distribution of mean of ' + str(sampsize) +\n",
    "          ' weights from ' + str(n_trials) + ' bootstrap samples')\n",
    "plt.xlabel('Mean weight')\n",
    "\n",
    "# Find values such that to 5%, 95% of values are below given value.\n",
    "# (These are the 5% and 95% percentile values).\n",
    "hi_lo_range = np.quantile(results, [0.05, 0.95])\n",
    "\n",
    "print('5% and 95% percentiles of bootstrap means:', np.round(hi_lo_range, 2))"
   ]
  }
 ],
 "metadata": {
  "jupytext": {
   "cell_metadata_filter": "-all",
   "main_language": "python",
   "notebook_metadata_filter": "-all"
  },
  "kernelspec": {
   "display_name": "Python (Pyodide)",
   "name": "python"
  }
 },
 "nbformat": 4,
 "nbformat_minor": 5
}
