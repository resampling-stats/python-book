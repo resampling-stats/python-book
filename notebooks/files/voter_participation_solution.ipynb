{
 "cells": [
  {
   "cell_type": "markdown",
   "id": "8a0ecbc2",
   "metadata": {},
   "source": [
    "# Voter participation in 1844 election"
   ]
  },
  {
   "cell_type": "markdown",
   "id": "65f8ca4d",
   "metadata": {},
   "source": [
    "Solution for voter participation exercise."
   ]
  },
  {
   "cell_type": "code",
   "execution_count": null,
   "id": "d0f0d942",
   "metadata": {},
   "outputs": [],
   "source": [
    "import numpy as np\n",
    "import pandas as pd\n",
    "\n",
    "rnd = np.random.default_rng()\n",
    "\n",
    "voter_df = pd.read_csv('data/election_1844.csv')\n",
    "participation = np.array(voter_df['Participation'])\n",
    "spread = np.array(voter_df['Spread'])"
   ]
  },
  {
   "cell_type": "code",
   "execution_count": null,
   "id": "5ef75f4f",
   "metadata": {},
   "outputs": [],
   "source": [
    "# Compute correlation.  It's -0.425.\n",
    "actual_r = np.corrcoef(participation, spread)[0, 1]\n",
    "actual_r"
   ]
  },
  {
   "cell_type": "code",
   "execution_count": null,
   "id": "de81edf7",
   "metadata": {},
   "outputs": [],
   "source": [
    "n_trials = 10_000\n",
    "results = np.zeros(n_trials)\n",
    "\n",
    "for i in range(n_trials):\n",
    "    # Shuffle the participation rates.\n",
    "    shuffled = rnd.permuted(participation)\n",
    "    # Compute re-sampled correlation.\n",
    "    fake_r = np.corrcoef(shuffled, spread)[0, 1]\n",
    "    # Keep the value in the results.\n",
    "    results[i] = fake_r\n",
    "\n",
    "plt.hist(results, bins=25)\n",
    "plt.title('Distribution of shuffled correlations')\n",
    "plt.xlabel('Correlation with shuffled participation')\n",
    "\n",
    "# Count the trials when result <= observed.\n",
    "k = np.sum(results <= actual_r)\n",
    "# Compute the proportion of such trials.\n",
    "kk = k / n_trials\n",
    "\n",
    "print('Proportion of shuffled r <= observed:', np.round(kk, 2))"
   ]
  }
 ],
 "metadata": {
  "jupytext": {
   "cell_metadata_filter": "-all",
   "main_language": "python",
   "notebook_metadata_filter": "-all"
  },
  "kernelspec": {
   "display_name": "Python (Pyodide)",
   "name": "python"
  }
 },
 "nbformat": 4,
 "nbformat_minor": 5
}
