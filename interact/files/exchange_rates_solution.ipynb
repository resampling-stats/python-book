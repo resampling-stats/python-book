{
 "cells": [
  {
   "cell_type": "markdown",
   "id": "77664b23",
   "metadata": {},
   "source": [
    "# Exchange rates and money supply"
   ]
  },
  {
   "cell_type": "markdown",
   "id": "f283c655",
   "metadata": {},
   "source": [
    "Solution notebook for exercise on exchange rates and money supply."
   ]
  },
  {
   "cell_type": "code",
   "execution_count": null,
   "id": "63dbb33c",
   "metadata": {},
   "outputs": [],
   "source": [
    "import numpy as np\n",
    "import pandas as pd\n",
    "\n",
    "rnd = np.random.default_rng()\n",
    "\n",
    "exchange_df = pd.read_csv('data/exchange_rates.csv')\n",
    "exchange_rates = np.array(exchange_df['exchange_rate'])\n",
    "money_supply = np.array(exchange_df['money_supply'])"
   ]
  },
  {
   "cell_type": "code",
   "execution_count": null,
   "id": "162be165",
   "metadata": {},
   "outputs": [],
   "source": [
    "# Correlation.\n",
    "actual_r = np.corrcoef(exchange_rates, money_supply)[0, 1]\n",
    "actual_r"
   ]
  },
  {
   "cell_type": "code",
   "execution_count": null,
   "id": "bed42b89",
   "metadata": {},
   "outputs": [],
   "source": [
    "n_trials = 10_000\n",
    "results = np.zeros(n_trials)\n",
    "\n",
    "for i in range(n_trials):\n",
    "    shuffled_rates = rnd.permuted(exchange_rates)\n",
    "    fake_r = np.corrcoef(shuffled_rates, money_supply)[0, 1]\n",
    "    results[i] = fake_r\n",
    "\n",
    "plt.hist(results, bins=25)\n",
    "plt.title('Distribution of shuffled exchange rates r values')\n",
    "plt.xlabel('r for shuffled exchange rate')\n",
    "\n",
    "k = np.sum(results >= actual_r)\n",
    "kk = k / n_trials\n",
    "\n",
    "print('p shuffled r >= actual:', np.round(kk, 3))"
   ]
  }
 ],
 "metadata": {
  "jupytext": {
   "cell_metadata_filter": "-all",
   "main_language": "python",
   "notebook_metadata_filter": "-all"
  },
  "kernelspec": {
   "display_name": "Python (Pyodide)",
   "name": "python"
  }
 },
 "nbformat": 4,
 "nbformat_minor": 5
}
