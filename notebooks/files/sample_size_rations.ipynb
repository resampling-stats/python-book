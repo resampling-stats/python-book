{
 "cells": [
  {
   "cell_type": "markdown",
   "id": "7eda1ed8",
   "metadata": {},
   "source": [
    "# Sample size for pig rations with bootstrap"
   ]
  },
  {
   "cell_type": "markdown",
   "id": "9fd0060b",
   "metadata": {},
   "source": [
    "Use the bootstrap (resampling with replacement) procedure to find the\n",
    "plausible differences between two rations in the benchmark (combined)\n",
    "universe.\n",
    "\n",
    "In due course, we then use these plausible values to put ourselves in\n",
    "the situation where the distributions of rations are distinct and\n",
    "different, and see how often we get a simulated difference drawn from\n",
    "these distributions that is implausible on criterion above.\n",
    "\n",
    "First we need to get the measured data from the data file using the\n",
    "Pandas library:"
   ]
  },
  {
   "cell_type": "code",
   "execution_count": null,
   "id": "4c9b00e6",
   "metadata": {},
   "outputs": [],
   "source": [
    "import numpy as np\n",
    "import matplotlib.pyplot as plt\n",
    "\n",
    "# set up the random number generator\n",
    "rnd = np.random.default_rng()\n",
    "\n",
    "# Estimated weights for ration A.\n",
    "a_weights = np.array([36, 35, 34, 33, 33, 32, 32, 31, 31, 30, 29, 28])\n",
    "# Estimated weights for ration B.\n",
    "b_weights = np.array([32, 31, 30, 29, 29, 28, 28, 27, 27, 26, 25, 24])\n",
    "\n",
    "# Make a combined (benchmark) universe from the weights.\n",
    "both = np.concatenate([a_weights, b_weights])\n",
    "\n",
    "# Set the number of trials\n",
    "n_trials = 10_000\n",
    "\n",
    "# An empty array to store the trial results.\n",
    "results = np.zeros(n_trials)\n",
    "\n",
    "# Do 10,000 experiments.\n",
    "for i in range(n_trials):\n",
    "    # Take a \"resample\" of 12 with replacement from both and put it in fake_a\n",
    "    fake_a = rnd.choice(both, size=12)\n",
    "    # Likewise to make fake_b\n",
    "    fake_b = rnd.choice(both, size=12)\n",
    "    # Mean of the first \"resample\" sample.\n",
    "    fake_a_mean = np.mean(fake_a)\n",
    "    # Mean of the second \"resample\" sample.\n",
    "    fake_b_mean = np.mean(fake_b)\n",
    "    # Calculate the difference between the two resamples.\n",
    "    fake_diff = fake_a_mean - fake_b_mean\n",
    "    # Keep track of each trial result.\n",
    "    results[i] = fake_diff\n",
    "    # End one experiment, go back and repeat until all trials are complete,\n",
    "    # then proceed.\n",
    "# Produce a histogram of trial results.\n",
    "plt.hist(results, bins=25)\n",
    "plt.xlabel('Second resample mean minus first')\n",
    "plt.title('Distribution difference in means of resamples')\n",
    "\n",
    "# Get the 95% percentile.  Only 5% of results are above this value, by chance.\n",
    "q_95 = np.quantile(results, 0.95)\n",
    "\n",
    "print('95% quantile for resampled mean difference:', q_95)"
   ]
  },
  {
   "cell_type": "code",
   "execution_count": null,
   "id": "98ba5524",
   "metadata": {},
   "outputs": [],
   "source": [
    "# Check the quantile.\n",
    "k = np.sum(results > q_95)\n",
    "kk = k / n_trials\n",
    "\n",
    "print('Proportion > 95% quantile:', kk)"
   ]
  },
  {
   "cell_type": "markdown",
   "id": "519e4365",
   "metadata": {},
   "source": [
    "We find that in only of the trials the difference between the two\n",
    "observed groups of 12 pigs was more than 2. Now we investigate how often\n",
    "samples of 12 pigs, drawn from the *separate* universes, will show a\n",
    "mean difference larger than 2 pounds. We do so by making up a deck of 25\n",
    "or 50 cards for *each* of the 12 hypothesized A’s and each of the 12\n",
    "B’s, with the ration name and the weight gain written on it — that is, a\n",
    "deck of, say, 300 cards for each ration. Then from each deck we draw a\n",
    "set of 12 cards at random, record the group averages, and find the\n",
    "difference.\n",
    "\n",
    "Here is the same work done with more runs on the computer. In this\n",
    "version we are sampling from the separate A and B universes we have\n",
    "estimated."
   ]
  },
  {
   "cell_type": "code",
   "execution_count": null,
   "id": "2f71dd63",
   "metadata": {},
   "outputs": [],
   "source": [
    "# A new empty array to store the trial results.\n",
    "results = np.zeros(n_trials)\n",
    "\n",
    "# Do 10,000 experiments.\n",
    "for i in range(n_trials):\n",
    "    # Take a \"resample\" of 12 with replacement from A and put it in fake_a.\n",
    "    # Notice we are sampling from \"a_weights\" this time.\n",
    "    fake_a = rnd.choice(a_weights, size=12)\n",
    "    # Likewise to make fake_b\n",
    "    # Notice we are sampling from \"b_weights\" this time.\n",
    "    fake_b = rnd.choice(b_weights, size=12)\n",
    "    # Mean of the first \"resample\" sample.\n",
    "    fake_a_mean = np.mean(fake_a)\n",
    "    # Mean of the second \"resample\" sample.\n",
    "    fake_b_mean = np.mean(fake_b)\n",
    "    # Calculate the difference between the two resamples.\n",
    "    fake_diff = fake_a_mean - fake_b_mean\n",
    "    # Keep track of each trial result.\n",
    "    results[i] = fake_diff\n",
    "    # End one experiment, go back and repeat until all trials are complete,\n",
    "    # then proceed.\n",
    "\n",
    "# Produce a histogram of trial results.\n",
    "plt.hist(results, bins=25)\n",
    "plt.xlabel('Second resample mean minus first, in separate universes')\n",
    "plt.title('Distribution difference in means of resamples')\n",
    "\n",
    "# What proportion of the differences are implausible in the combined universe?\n",
    "k = np.sum(results >= q_95)\n",
    "kk = k / n_trials\n",
    "\n",
    "print('p for separate universe results >= 95% quantile:', kk)"
   ]
  },
  {
   "cell_type": "markdown",
   "id": "daadee43",
   "metadata": {},
   "source": [
    "If `kk` is close to one, we know that the sample size is large enough\n",
    "that samples drawn from the universes we have hypothesized will not\n",
    "mislead us into thinking that they could come from the same universe.\n",
    "\n",
    "Therefore, two samples of twelve pigs each are clearly large enough,\n",
    "and, in fact, even smaller samples might be sufficient if the universes\n",
    "are really like those we guessed at. If, on the other hand, the\n",
    "differences in the guessed universes had been smaller, then twelve-pig\n",
    "groups would have seemed too small and we would then have had to try out\n",
    "larger sample sizes, say forty-eight pigs in each group and perhaps 200\n",
    "pigs in each group if forty-eight were not enough. And so on until the\n",
    "sample size is large enough to promise the accuracy we want. (In that\n",
    "case, the decks would also have to be much larger, of course.)\n",
    "\n",
    "If we had guessed different universes for the two rations, then the\n",
    "sample sizes required would have been larger or smaller. If we had\n",
    "guessed the averages for the two samples to be closer together, then we\n",
    "would have needed larger samples. Also, if we had guessed the weight\n",
    "gains *within* each universe to be less spread out, the samples could\n",
    "have been smaller and vice versa."
   ]
  }
 ],
 "metadata": {
  "jupytext": {
   "cell_metadata_filter": "-all",
   "main_language": "python",
   "notebook_metadata_filter": "-all"
  },
  "kernelspec": {
   "display_name": "Python (Pyodide)",
   "name": "python"
  }
 },
 "nbformat": 4,
 "nbformat_minor": 5
}
