{
 "cells": [
  {
   "cell_type": "markdown",
   "id": "d387ecb7",
   "metadata": {},
   "source": [
    "# Fine day and win"
   ]
  },
  {
   "cell_type": "markdown",
   "id": "1ae9322c",
   "metadata": {},
   "source": [
    "This notebook calculates the chances that the Commanders win on a fine\n",
    "day.\n",
    "\n",
    "We also go through the logic of the `if` statement, and its associated\n",
    "`else` clause."
   ]
  },
  {
   "cell_type": "code",
   "execution_count": null,
   "id": "ebc9953c",
   "metadata": {},
   "outputs": [],
   "source": [
    "# Load the NumPy array library.\n",
    "import numpy as np\n",
    "\n",
    "# Make a random number generator\n",
    "rnd = np.random.default_rng()"
   ]
  },
  {
   "cell_type": "code",
   "execution_count": null,
   "id": "5e6db84a",
   "metadata": {},
   "outputs": [],
   "source": [
    "# blue means \"nice day\", yellow means \"not nice\".\n",
    "bucket_A = np.repeat(['blue', 'yellow'], [7, 3])\n",
    "bucket_A"
   ]
  },
  {
   "cell_type": "markdown",
   "id": "446a8d61",
   "metadata": {},
   "source": [
    "Now let us draw a ball at random from bucket_A:"
   ]
  },
  {
   "cell_type": "code",
   "execution_count": null,
   "id": "3e13024d",
   "metadata": {},
   "outputs": [],
   "source": [
    "a_ball = rnd.choice(bucket_A)\n",
    "a_ball"
   ]
  },
  {
   "cell_type": "markdown",
   "id": "f47d4d1d",
   "metadata": {},
   "source": [
    "How we run our first `if` statement. Running this code will display “The\n",
    "ball was blue” if the ball was blue, otherwise it will not display\n",
    "anything:"
   ]
  },
  {
   "cell_type": "code",
   "execution_count": null,
   "id": "5a0ac319",
   "metadata": {},
   "outputs": [],
   "source": [
    "if a_ball == 'blue':\n",
    "    print('The ball was blue')"
   ]
  },
  {
   "cell_type": "markdown",
   "id": "a271f2ea",
   "metadata": {},
   "source": [
    "Notice that the header line has `if`, followed by the conditional\n",
    "expression (question) `a_ball == 'blue'`. The header line finishes with\n",
    "a colon `:`. The *body* of the `if` statement is one or more *indented*\n",
    "lines. Here there is only one line: `print('The ball was blue')`. Python\n",
    "only runs the body of the if statement if the *condition* is `True`.[^1]\n",
    "\n",
    "To confirm we see “The ball was blue” if `a_ball` is `'blue'` and\n",
    "nothing otherwise, we can set `a_ball` and re-run the code:"
   ]
  },
  {
   "cell_type": "code",
   "execution_count": null,
   "id": "912ceb52",
   "metadata": {},
   "outputs": [],
   "source": [
    "# Set value of a_ball so we know what it is.\n",
    "a_ball = 'blue'"
   ]
  },
  {
   "cell_type": "code",
   "execution_count": null,
   "id": "2a9334f1",
   "metadata": {},
   "outputs": [],
   "source": [
    "if a_ball == 'blue':\n",
    "    # The conditional statement is True in this case, so the body does run.\n",
    "    print('The ball was blue')"
   ]
  },
  {
   "cell_type": "code",
   "execution_count": null,
   "id": "3946873d",
   "metadata": {},
   "outputs": [],
   "source": [
    "a_ball = 'yellow'"
   ]
  },
  {
   "cell_type": "code",
   "execution_count": null,
   "id": "21089a7c",
   "metadata": {},
   "outputs": [],
   "source": [
    "if a_ball == 'blue':\n",
    "    # The conditional statement is False, so the body does not run.\n",
    "    print('The ball was blue')"
   ]
  },
  {
   "cell_type": "markdown",
   "id": "c1d9676e",
   "metadata": {},
   "source": [
    "We can add an `else` clause to the `if` statement. Remember the *body*\n",
    "of the `if` statement runs if the *conditional expression* (here\n",
    "`a_ball == 'blue')` is `True`. The `else` clause runs if the conditional\n",
    "statement is `False`. This may be clearer with an example:"
   ]
  },
  {
   "cell_type": "code",
   "execution_count": null,
   "id": "97492149",
   "metadata": {},
   "outputs": [],
   "source": [
    "a_ball = 'blue'"
   ]
  },
  {
   "cell_type": "code",
   "execution_count": null,
   "id": "dd209958",
   "metadata": {},
   "outputs": [],
   "source": [
    "if a_ball == 'blue':\n",
    "    # The conditional expression is True in this case, so the body runs.\n",
    "    print('The ball was blue')\n",
    "else:\n",
    "    # The conditional expression was True, so the else clause does not run.\n",
    "    print('The ball was not blue')"
   ]
  },
  {
   "cell_type": "markdown",
   "id": "089ace9e",
   "metadata": {},
   "source": [
    "Notice that the `else` clause of the `if` statement starts with a header\n",
    "line — `else` — followed by a colon `:`. It then has its own indented\n",
    "*body* of indented code. The body of the `else` clause only runs if the\n",
    "initial conditional expression is *not* `True`."
   ]
  },
  {
   "cell_type": "code",
   "execution_count": null,
   "id": "bafe2516",
   "metadata": {},
   "outputs": [],
   "source": [
    "a_ball = 'yellow'"
   ]
  },
  {
   "cell_type": "code",
   "execution_count": null,
   "id": "1f9c86c1",
   "metadata": {},
   "outputs": [],
   "source": [
    "if a_ball == 'blue':\n",
    "    # The conditional expression was False, so the body does not run.\n",
    "    print('The ball was blue')\n",
    "else:\n",
    "    # but the else clause does run.\n",
    "    print('The ball was not blue')"
   ]
  },
  {
   "cell_type": "markdown",
   "id": "54ba5b1e",
   "metadata": {},
   "source": [
    "With this machinery, we can now implement the full logic of step 4\n",
    "above:\n",
    "\n",
    "    If you have drawn a blue ball from bucket A:\n",
    "        Draw a ball from bucket B\n",
    "        if the ball is green:\n",
    "            record \"yes\"\n",
    "        otherwise:\n",
    "            record \"no\".\n",
    "\n",
    "Here is bucket B. Remember green means “win” (65% of the time) and red\n",
    "means “lose” (35% of the time). We could call this the “Commanders win\n",
    "when it is a nice day” bucket:"
   ]
  },
  {
   "cell_type": "code",
   "execution_count": null,
   "id": "92667e1a",
   "metadata": {},
   "outputs": [],
   "source": [
    "bucket_B = np.repeat(['green', 'red'], [65, 35])"
   ]
  },
  {
   "cell_type": "markdown",
   "id": "8662251a",
   "metadata": {},
   "source": [
    "The full logic for step 4 is:"
   ]
  },
  {
   "cell_type": "code",
   "execution_count": null,
   "id": "cb683ad9",
   "metadata": {},
   "outputs": [],
   "source": [
    "# By default, say we have no result.\n",
    "result = 'No result'\n",
    "a_ball = rnd.choice(bucket_A)\n",
    "# If you have drawn a blue ball from bucket A:\n",
    "if a_ball == 'blue':\n",
    "    # Draw a ball at random from bucket B\n",
    "    b_ball = rnd.choice(bucket_B)\n",
    "    # if the ball is green:\n",
    "    if b_ball == 'green':\n",
    "        # record \"yes\"\n",
    "        result = 'yes'\n",
    "    # otherwise:\n",
    "    else:\n",
    "        # record \"no\".\n",
    "        result = 'no'\n",
    "# Show what we got in this case.\n",
    "result"
   ]
  },
  {
   "cell_type": "markdown",
   "id": "ed5af2d1",
   "metadata": {},
   "source": [
    "Now we have everything we need to run many trials with the same logic."
   ]
  },
  {
   "cell_type": "code",
   "execution_count": null,
   "id": "2e63cfa7",
   "metadata": {},
   "outputs": [],
   "source": [
    "# The result of each trial.\n",
    "# To start with, say we have no result for all the trials.\n",
    "z = np.repeat(['No result'], 10000)\n",
    "\n",
    "# Repeat trial procedure 10000 times\n",
    "for i in range(10000):\n",
    "    # draw one \"ball\" for the weather, store in \"a_ball\"\n",
    "    # blue is \"nice day\", yellow is \"not nice\"\n",
    "    a_ball = rnd.choice(bucket_A)\n",
    "    if a_ball == 'blue':  # nice day\n",
    "        # if no rain, check on game outcome\n",
    "        # green is \"win\" (give nice day), red is \"lose\" (given nice day).\n",
    "        b_ball = rnd.choice(bucket_B)\n",
    "        if b_ball == 'green':  # Commanders win\n",
    "            # Record result.\n",
    "            z[i] = 'yes'\n",
    "        else:\n",
    "            z[i] = 'no'\n",
    "    # End of trial, go back to the beginning until done.\n",
    "\n",
    "# Count of the number of times we got \"yes\".\n",
    "k = np.sum(z == 'yes')\n",
    "# Show the proportion of *both* fine day *and* wins\n",
    "kk = k / 10000\n",
    "kk"
   ]
  },
  {
   "cell_type": "markdown",
   "id": "87f1a3b6",
   "metadata": {},
   "source": [
    "The above procedure gives us the probability that it will be a nice day\n",
    "and the Commanders will win — about 46%.\n",
    "\n",
    "[^1]: In this case, the result of the conditional expression is in fact\n",
    "    either `True` or `False`. Python is more liberal on what it allows\n",
    "    in the conditional expression; it will take whatever the result is,\n",
    "    and then force the result into either `True` or `False`, in fact, by\n",
    "    wrapping the result with the `bool` function, that takes anything as\n",
    "    input, and returns either `True` or `False`. Therefore, we could\n",
    "    refer to the result of the conditional expression as something\n",
    "    “truthy” — that is - something that comes back as `True` or `False`\n",
    "    from the `bool` function. In the case here, that does not arise,\n",
    "    because the result is in fact either exactly `True` or exactly\n",
    "    `False`."
   ]
  }
 ],
 "metadata": {
  "jupytext": {
   "cell_metadata_filter": "-all",
   "main_language": "python",
   "notebook_metadata_filter": "-all"
  }
 },
 "nbformat": 4,
 "nbformat_minor": 5
}