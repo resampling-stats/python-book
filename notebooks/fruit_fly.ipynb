{
 "cells": [
  {
   "cell_type": "markdown",
   "id": "30e37ae7",
   "metadata": {},
   "source": [
    "# Fruit fly simulation"
   ]
  },
  {
   "cell_type": "markdown",
   "id": "ce0da96a",
   "metadata": {},
   "source": [
    "This notebook uses simulation to test the null hypothesis that it is\n",
    "equally likely that new fruit files are male or female."
   ]
  },
  {
   "cell_type": "code",
   "execution_count": null,
   "id": "0ce705aa",
   "metadata": {},
   "outputs": [],
   "source": [
    "import numpy as np\n",
    "import matplotlib.pyplot as plt\n",
    "\n",
    "# set up the random number generator\n",
    "rnd = np.random.default_rng()"
   ]
  },
  {
   "cell_type": "code",
   "execution_count": null,
   "id": "a1d588e7",
   "metadata": {},
   "outputs": [],
   "source": [
    "# Set the number of trials\n",
    "n_trials = 10000\n",
    "\n",
    "# set the sample size for each trial\n",
    "sample_size = 20\n",
    "\n",
    "# An empty array to store the trials\n",
    "scores = np.zeros(n_trials)\n",
    "\n",
    "# Do 10000 trials\n",
    "for i in range(n_trials):\n",
    "\n",
    "    # Generate 20 simulated fruit flies, where each has an equal chance of\n",
    "    # being male or female\n",
    "    a = rnd.choice(['male', 'female'],\n",
    "                   size=sample_size,\n",
    "                   p=[0.5, 0.5],\n",
    "                   replace = True)\n",
    "\n",
    "    # count the number of males in the sample\n",
    "    b = np.sum(a == 'male')\n",
    "\n",
    "    # store the result of this trial\n",
    "    scores[i] = b\n",
    "\n",
    "# Produce a histogram of the trial results\n",
    "plt.title(f\"Number of males in {n_trials} samples of \\n{sample_size} simulated fruit flies\")\n",
    "plt.hist(scores)\n",
    "plt.xlabel('Number of Males')\n",
    "plt.ylabel('Frequency')"
   ]
  },
  {
   "cell_type": "markdown",
   "id": "d1b073cc",
   "metadata": {},
   "source": [
    "In the histogram above, we see that in about 12 percent of the trials,\n",
    "the number of males was 14 or more, or 6 or fewer. Or instead of reading\n",
    "the results from the histogram, we can calculate the result by tacking\n",
    "on the following commands to the above program:"
   ]
  },
  {
   "cell_type": "code",
   "execution_count": null,
   "id": "6b1e6f82",
   "metadata": {},
   "outputs": [],
   "source": [
    "# Determine the number of trials in which we had 14 or more males.\n",
    "j = np.sum(scores >= 14)\n",
    "\n",
    "# Determine the number of trials in which we had 6 or fewer males.\n",
    "k = np.sum(scores <= 6)\n",
    "\n",
    "# Add the two results together.\n",
    "m = j + k\n",
    "\n",
    "# Convert to a proportion.\n",
    "mm = m / n_trials\n",
    "\n",
    "# Print the results.\n",
    "print(mm)"
   ]
  }
 ],
 "metadata": {
  "jupytext": {
   "cell_metadata_filter": "-all",
   "main_language": "python",
   "notebook_metadata_filter": "-all"
  }
 },
 "nbformat": 4,
 "nbformat_minor": 5
}
