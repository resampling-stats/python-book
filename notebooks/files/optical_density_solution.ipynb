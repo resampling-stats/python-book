{
 "cells": [
  {
   "cell_type": "markdown",
   "id": "a3f2cd4b",
   "metadata": {},
   "source": [
    "# Optical density solution\n"
   ]
  },
  {
   "cell_type": "code",
   "execution_count": null,
   "id": "27b54df1",
   "metadata": {},
   "outputs": [],
   "source": [
    "import numpy as np\n",
    "import matplotlib.pyplot as plt\n",
    "\n",
    "rnd = np.random.default_rng()"
   ]
  },
  {
   "cell_type": "markdown",
   "id": "c3946573",
   "metadata": {},
   "source": [
    "Suppose we have 10 measurements of Optical Density on a batch of HIV\n",
    "negative control samples:"
   ]
  },
  {
   "cell_type": "code",
   "execution_count": null,
   "id": "5be9e438",
   "metadata": {},
   "outputs": [],
   "source": [
    "density = np.array(\n",
    "    [.02, .026, .023, .017, .022, .019, .018, .018, .017, .022])"
   ]
  },
  {
   "cell_type": "markdown",
   "id": "84808b83",
   "metadata": {},
   "source": [
    "Derive a 95 percent confidence interval for the sample mean. Are there\n",
    "enough measurements to produce a satisfactory answer?"
   ]
  },
  {
   "cell_type": "code",
   "execution_count": null,
   "id": "75e0cdcb",
   "metadata": {},
   "outputs": [],
   "source": [
    "n_density = len(density)\n",
    "\n",
    "n_trials = 10_000\n",
    "results = np.zeros(n_trials)\n",
    "\n",
    "for i in range(n_trials):\n",
    "    fake_density = rnd.choice(density, size=n_density)\n",
    "    results[i] = np.mean(fake_density)\n",
    "\n",
    "plt.hist(results, bins=25)\n",
    "plt.title('Bootstrap distribution of density means')\n",
    "plt.xlabel('Bootstrap density means')\n",
    "\n",
    "mean_limits = np.quantile(results, [0.025, 0.975])\n",
    "\n",
    "print('95% percent limits for density mean:', mean_limits)"
   ]
  }
 ],
 "metadata": {
  "jupytext": {
   "cell_metadata_filter": "-all",
   "main_language": "python",
   "notebook_metadata_filter": "-all"
  },
  "kernelspec": {
   "display_name": "Python (Pyodide)",
   "name": "python"
  }
 },
 "nbformat": 4,
 "nbformat_minor": 5
}
