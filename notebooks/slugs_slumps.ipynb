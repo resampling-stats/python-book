{
 "cells": [
  {
   "cell_type": "markdown",
   "id": "12b4e1c5",
   "metadata": {},
   "source": [
    "# Do Slugs hits and misses tend to cluster?"
   ]
  },
  {
   "cell_type": "markdown",
   "id": "7575477f",
   "metadata": {},
   "source": [
    "We will draw 100 values at random with a 25% probability of a Hit, and\n",
    "75% probability of a miss. Treat these as a sequence of Hits and Misses\n",
    "from the null-world. Do these random draws cluster more or less than\n",
    "Slug’s own sequences of hits and misses?"
   ]
  },
  {
   "cell_type": "code",
   "execution_count": null,
   "id": "4eeee1e6",
   "metadata": {},
   "outputs": [],
   "source": [
    "import numpy as np\n",
    "import matplotlib.pyplot as plt\n",
    "\n",
    "# Set up the random number generator.\n",
    "rnd = np.random.default_rng()"
   ]
  },
  {
   "cell_type": "markdown",
   "id": "77a05e16",
   "metadata": {},
   "source": [
    "First let us work out how to calculate the number of clusters as defined\n",
    "above.\n",
    "\n",
    "This is Slug’s record:"
   ]
  },
  {
   "cell_type": "code",
   "execution_count": null,
   "id": "5e6626b0",
   "metadata": {},
   "outputs": [],
   "source": [
    "slug = np.array([\n",
    "    'X', 'X', 'X', 'X', 'X', 'X', 'H', 'X', 'X', 'H', 'X', 'H', 'H', 'X', 'X',\n",
    "    'X', 'X', 'X', 'X', 'X', 'X', 'H', 'X', 'X', 'X', 'X', 'X', 'H', 'X', 'X',\n",
    "    'X', 'X', 'H', 'H', 'X', 'X', 'X', 'X', 'X', 'H', 'X', 'X', 'H', 'X', 'H',\n",
    "    'X', 'X', 'X', 'H', 'H', 'X', 'X', 'X', 'X', 'X', 'H', 'X', 'H', 'X', 'X',\n",
    "    'X', 'X', 'H', 'H', 'X', 'H', 'H', 'X', 'X', 'X', 'X', 'X', 'X', 'X', 'X',\n",
    "    'X', 'X', 'H', 'X', 'X', 'X', 'H', 'X', 'X', 'H', 'X', 'X', 'H', 'X', 'H',\n",
    "    'X', 'X', 'H', 'X', 'X', 'X', 'H', 'X', 'X', 'X'\n",
    "])"
   ]
  },
  {
   "cell_type": "markdown",
   "id": "0614b4bd",
   "metadata": {},
   "source": [
    "Here’s how we can calculate the number of runs:"
   ]
  },
  {
   "cell_type": "code",
   "execution_count": null,
   "id": "5b18cc0d",
   "metadata": {},
   "outputs": [],
   "source": [
    "slug_runs = 0\n",
    "current_element = 'start-marker'  # Something that is always != to the elements.\n",
    "for element in slug:\n",
    "    if element != current_element:  # The previous cluster has finished.\n",
    "        slug_runs = slug_runs + 1  # Record we are in a new cluster.\n",
    "        current_element = element  # Give the starting element for the new cluster.\n",
    "# Show the count.\n",
    "slug_runs"
   ]
  },
  {
   "cell_type": "markdown",
   "id": "ef7f5262",
   "metadata": {},
   "source": [
    "For practice, let us count the number of clusters in the random set of\n",
    "cards above:"
   ]
  },
  {
   "cell_type": "code",
   "execution_count": null,
   "id": "f5e631fa",
   "metadata": {},
   "outputs": [],
   "source": [
    "random_hand = np.array([\n",
    "    'X', 'X', 'H', 'X', 'X', 'X', 'X', 'H', 'H', 'X', 'X', 'X', 'H', 'H', 'H',\n",
    "    'X', 'X', 'X', 'X', 'X', 'H', 'X', 'X', 'X', 'H', 'X', 'X', 'H', 'X', 'X',\n",
    "    'X', 'X', 'H', 'X', 'H', 'H', 'X', 'X', 'X', 'X', 'X', 'X', 'X', 'X', 'X',\n",
    "    'H', 'X', 'X', 'X', 'X', 'X', 'X', 'H', 'H', 'X', 'X', 'X', 'X', 'X', 'H',\n",
    "    'H', 'H', 'X', 'X', 'X', 'X', 'X', 'X', 'H', 'X', 'H', 'X', 'H', 'X', 'X',\n",
    "    'H', 'X', 'H', 'X', 'X', 'X', 'X', 'X', 'X', 'X', 'X', 'X', 'H', 'X', 'X',\n",
    "    'X', 'X', 'X', 'X', 'X', 'H', 'H', 'H', 'X', 'X'\n",
    "])\n",
    "random_runs = 0\n",
    "current_element = 'start-marker'  # Something that is always != to the elements.\n",
    "for element in random_hand:\n",
    "    if element != current_element:  # The previous cluster has finished.\n",
    "        random_runs = random_runs + 1  # Record we are in a new cluster.\n",
    "        current_element = element  # Give the starting element for the new cluster.\n",
    "# Show the result.\n",
    "random_runs"
   ]
  },
  {
   "cell_type": "markdown",
   "id": "0ca097c5",
   "metadata": {},
   "source": [
    "We will use that code in the procedure below."
   ]
  },
  {
   "cell_type": "code",
   "execution_count": null,
   "id": "3df53a0c",
   "metadata": {},
   "outputs": [],
   "source": [
    "# Set the number of trials.\n",
    "n_trials = 10_000\n",
    "\n",
    "# An empty array to store the trials.\n",
    "results = np.zeros(n_trials)\n",
    "\n",
    "for i in range(n_trials):\n",
    "    # Sample 100 \"at-bats\" with Slug's own probabilities.\n",
    "    hits_misses = rnd.choice(['H', 'X'], p=[0.25, 0.75], size=100)\n",
    "    # How many runs (of any length >=1) are there in the 100 at-bats?\n",
    "    fake_runs = 0\n",
    "    current_element = 'start-marker'  # Something always != to the elements.\n",
    "    for element in hits_misses:\n",
    "        if element != current_element:  # The previous cluster has finished.\n",
    "            fake_runs = fake_runs + 1  # Record we are in a new cluster.\n",
    "            current_element = element  # Give the starting element for the new cluster.\n",
    "    # Record the result.\n",
    "    results[i] = fake_runs\n",
    "\n",
    "plt.hist(results, bins=25)\n",
    "plt.title('Distribution of number of clusters in random hit/miss arrays')\n",
    "plt.title('Number of clusters')"
   ]
  },
  {
   "cell_type": "markdown",
   "id": "57fc2dd5",
   "metadata": {},
   "source": [
    "Examining the histogram, we see that 43 runs is not at all an unusual\n",
    "occurrence."
   ]
  }
 ],
 "metadata": {
  "jupytext": {
   "cell_metadata_filter": "-all",
   "main_language": "python",
   "notebook_metadata_filter": "-all"
  }
 },
 "nbformat": 4,
 "nbformat_minor": 5
}
