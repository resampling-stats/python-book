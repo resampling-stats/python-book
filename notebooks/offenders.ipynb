{
 "cells": [
  {
   "cell_type": "markdown",
   "id": "2e860fa5",
   "metadata": {},
   "source": [
    "# Simulation of offender strategies"
   ]
  },
  {
   "cell_type": "markdown",
   "id": "b1c61cca",
   "metadata": {},
   "source": [
    "This notebook uses simulation to test the null hypothesis that the four\n",
    "treatments in question were each equally effective."
   ]
  },
  {
   "cell_type": "code",
   "execution_count": null,
   "id": "5fb6a17a",
   "metadata": {},
   "outputs": [],
   "source": [
    "import numpy as np\n",
    "import matplotlib.pyplot as plt\n",
    "\n",
    "# set up the random number generator\n",
    "rnd = np.random.default_rng()\n",
    "\n",
    "# Set the number of trials\n",
    "n_trials = 10_000\n",
    "\n",
    "# Set the sample size for each trial\n",
    "sample_size = 20\n",
    "\n",
    "# An empty array to store the trial results.\n",
    "scores = np.zeros(n_trials)\n",
    "\n",
    "# Do 10000 trials\n",
    "for i in range(n_trials):\n",
    "    # The first treatment group\n",
    "    a = rnd.choice(['success', 'failure'], p=[0.55, 0.45], size=20)\n",
    "    # Count successes.\n",
    "    a_count = np.sum(a == 'success')\n",
    "    # Second, third and fourth treatment groups, and successes.\n",
    "    b = rnd.choice(['success', 'failure'], p=[0.55, 0.45], size=20)\n",
    "    b_count = np.sum(b == 'success')\n",
    "    c = rnd.choice(['success', 'failure'], p=[0.55, 0.45], size=20)\n",
    "    c_count = np.sum(c == 'success')\n",
    "    d = rnd.choice(['success', 'failure'], p=[0.55, 0.45], size=20)\n",
    "    d_count = np.sum(d == 'success')\n",
    "\n",
    "    # Now find all the pairwise differences in successes among the groups.\n",
    "    a_minus_b = a_count - b_count\n",
    "    a_minus_c = a_count - c_count\n",
    "    a_minus_d = a_count - d_count\n",
    "    b_minus_c = b_count - c_count\n",
    "    b_minus_d = b_count - d_count\n",
    "    c_minus_d = c_count - d_count\n",
    "\n",
    "    # Concatenate, or join, all the differences in a single array \"diffs\".\n",
    "    diffs = np.array([a_minus_b, a_minus_c, a_minus_d,\n",
    "                      b_minus_c, b_minus_d, c_minus_d])\n",
    "    # Since we are interested only in the magnitude of the difference, not its\n",
    "    # direction, we take the absolute value of all the differences (we remove\n",
    "    # any minus signs, making all values positive).\n",
    "    abs_diffs = np.abs(diffs)\n",
    "    # Find the largest of all the differences\n",
    "    max_abs_diff = np.max(abs_diffs)\n",
    "    # Keep score of the largest\n",
    "    scores[i] = max_abs_diff\n",
    "\n",
    "    # End a trial, go back and repeat until all 10000 are complete.\n",
    "\n",
    "# How many of the trials yielded a maximum difference greater than the\n",
    "# observed maximum difference?\n",
    "k = np.sum(scores >= 10)\n",
    "# Convert to a proportion\n",
    "kk = k / n_trials\n",
    "\n",
    "print('Proportion >= 10 was', kk)"
   ]
  }
 ],
 "metadata": {
  "jupytext": {
   "cell_metadata_filter": "-all",
   "main_language": "python",
   "notebook_metadata_filter": "-all"
  }
 },
 "nbformat": 4,
 "nbformat_minor": 5
}