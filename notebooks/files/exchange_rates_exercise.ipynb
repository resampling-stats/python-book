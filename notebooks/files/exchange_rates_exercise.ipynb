{
 "cells": [
  {
   "cell_type": "markdown",
   "id": "4c4cac53",
   "metadata": {},
   "source": [
    "# Exchange rates and money supply"
   ]
  },
  {
   "cell_type": "markdown",
   "id": "cd6460de",
   "metadata": {},
   "source": [
    "Notebook for exercise on exchange rates and money supply."
   ]
  },
  {
   "cell_type": "code",
   "execution_count": null,
   "id": "b18c721c",
   "metadata": {},
   "outputs": [],
   "source": [
    "import numpy as np\n",
    "import pandas as pd\n",
    "\n",
    "rnd = np.random.default_rng()\n",
    "\n",
    "exchange_df = pd.read_csv('data/exchange_rates.csv')\n",
    "exchange_rates = np.array(exchange_df['exchange_rate'])\n",
    "money_supply = np.array(exchange_df['money_supply'])"
   ]
  }
 ],
 "metadata": {
  "jupytext": {
   "cell_metadata_filter": "-all",
   "main_language": "python",
   "notebook_metadata_filter": "-all"
  },
  "kernelspec": {
   "display_name": "Python (Pyodide)",
   "name": "python"
  }
 },
 "nbformat": 4,
 "nbformat_minor": 5
}
