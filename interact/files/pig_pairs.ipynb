{
 "cells": [
  {
   "cell_type": "markdown",
   "id": "d88fef4e",
   "metadata": {},
   "source": [
    "# Paired test for pig rations"
   ]
  },
  {
   "cell_type": "markdown",
   "id": "aed72551",
   "metadata": {},
   "source": [
    "Use simulation to test for a difference in pig rations, by pairing pigs\n",
    "and testing the probability of observed differences within the pairs."
   ]
  },
  {
   "cell_type": "code",
   "execution_count": null,
   "id": "af394180",
   "metadata": {},
   "outputs": [],
   "source": [
    "import numpy as np\n",
    "rnd = np.random.default_rng()\n",
    "\n",
    "n_iters = 10_000\n",
    "\n",
    "# Make array to store results for each trial.\n",
    "results = np.zeros(n_iters)\n",
    "\n",
    "# Do 10000 trials\n",
    "for i in range(n_iters):\n",
    "    # Generate randomly 12 \"A\" or \"B\"s.  Each of the 12 values represents\n",
    "    # one \"pairing\" where \"A\" = ration A \"wins,\" \"B\" = ration B \"wins.\".\n",
    "    wins = rnd.choice(['A', 'B'], size=12)\n",
    "    # Count the number of \"pairings\" where ration A won, put the result in\n",
    "    # \"n_a_wins\".\n",
    "    n_a_wins = np.sum(wins == 'A')\n",
    "    # Keep track of the result in results.\n",
    "    results[i] = n_a_wins\n",
    "    # End the trial, go back and repeat until all 10000 trials are complete.\n",
    "# Determine how often we got 9 or more \"wins\" for ration A.\n",
    "high = np.sum(results >= 9)\n",
    "# Determine how often we got 3 or fewer \"wins\" for ration A.\n",
    "low = np.sum(results <= 3)\n",
    "# Add the two together\n",
    "k = high + low\n",
    "#  Convert to a proportion\n",
    "kk = k / n_iters\n",
    "# Print the result.\n",
    "print('Proportion >=9 or <=3:', kk)"
   ]
  }
 ],
 "metadata": {
  "jupytext": {
   "cell_metadata_filter": "-all",
   "main_language": "python",
   "notebook_metadata_filter": "-all"
  },
  "kernelspec": {
   "display_name": "Python (Pyodide)",
   "name": "python"
  }
 },
 "nbformat": 4,
 "nbformat_minor": 5
}
