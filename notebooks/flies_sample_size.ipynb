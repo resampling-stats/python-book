{
 "cells": [
  {
   "cell_type": "markdown",
   "id": "92ba9bfe",
   "metadata": {},
   "source": [
    "# Sample size for detecting fruitfly sex difference"
   ]
  },
  {
   "cell_type": "markdown",
   "id": "30ad7a3b",
   "metadata": {},
   "source": [
    "We are interested in a procedure to change the sex ratio of fruit flies\n",
    "to give more males. We are going to take samples of 80 flies. We know\n",
    "that, in order to detect a convincing difference from a 50:50 ratio, we\n",
    "need 48 of 80, or more, to be male. We suspect that the treatment gives\n",
    "a 60:40 ratio. Drawing random samples in this 60:40 universe, how often\n",
    "do we get the convincing \\>=48 male count? In other words, for how many\n",
    "trials in this situation, will we see a convincing answer?"
   ]
  },
  {
   "cell_type": "code",
   "execution_count": null,
   "id": "4b17384c",
   "metadata": {},
   "outputs": [],
   "source": [
    "import numpy as np\n",
    "\n",
    "rnd = np.random.default_rng()\n",
    "\n",
    "n_trials = 10_000\n",
    "\n",
    "# Results for each trial.\n",
    "results = np.zeros(n_trials)\n",
    "\n",
    "# Do 10,000 trials\n",
    "for i in range(n_trials):\n",
    "    # Generate 80 \"flies\" with 0.6 chance of male, 0.4 of female>\n",
    "    flies = rnd.choice(['male', 'female'], size=80, p=[0.6, 0.4])\n",
    "    # Count the males.\n",
    "    n_males = np.sum(flies == 'male')\n",
    "    # Keep score.\n",
    "    results[i] = n_males\n",
    "\n",
    "# How many of the trials produced more than 48 males?\n",
    "k = np.sum(results >= 48)\n",
    "# Convert to a proportion\n",
    "kk = k / n_trials\n",
    "\n",
    "print('Proportion of 60/40 trials giving >= 48 males:', kk)"
   ]
  },
  {
   "cell_type": "markdown",
   "id": "f682d2dd",
   "metadata": {},
   "source": [
    "If the result `kk` is close to 1, we then know that samples of size 80\n",
    "will almost always produce samples with enough males to avoid misleading\n",
    "us into thinking that they could have come from a universe in which\n",
    "males and females are split 50-50."
   ]
  }
 ],
 "metadata": {
  "jupytext": {
   "cell_metadata_filter": "-all",
   "main_language": "python",
   "notebook_metadata_filter": "-all"
  }
 },
 "nbformat": 4,
 "nbformat_minor": 5
}
