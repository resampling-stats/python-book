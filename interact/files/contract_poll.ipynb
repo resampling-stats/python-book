{
 "cells": [
  {
   "cell_type": "markdown",
   "id": "fb8422a9",
   "metadata": {},
   "source": [
    "# Contract poll simulation"
   ]
  },
  {
   "cell_type": "markdown",
   "id": "5f98e1d6",
   "metadata": {},
   "source": [
    "This Python notebook generates samples of 50 simulated voters on the\n",
    "assumption that only 50 percent are in favor of the contract. Then it\n",
    "counts (`sum`s) the number of samples where over 29 (30 or more) of the\n",
    "50 respondents said they were in favor of the contract. (That is, we use\n",
    "a “one-tailed test.”) The result in the `kk` variable is the chance of a\n",
    "“false positive,” that is, 30 or more people saying they favor a\n",
    "contract when support for the proposal is actually split evenly down the\n",
    "middle."
   ]
  },
  {
   "cell_type": "code",
   "execution_count": null,
   "id": "c966b38f",
   "metadata": {},
   "outputs": [],
   "source": [
    "import numpy as np\n",
    "import matplotlib.pyplot as plt\n",
    "\n",
    "rnd = np.random.default_rng()\n",
    "\n",
    "# We will do 10,000 iterations.\n",
    "n = 10_000"
   ]
  },
  {
   "cell_type": "markdown",
   "id": "8a40f1a6",
   "metadata": {},
   "source": [
    "Notice the line above: `n = 10_000`. This is an alternative way of\n",
    "writing the familiar `n = 10000`. Python allows underscores when we type\n",
    "an integer; it will treat them as decoration, and ignore them in\n",
    "resolving the number we intend. This means that all these are equivalent\n",
    "to Python:"
   ]
  },
  {
   "cell_type": "code",
   "execution_count": null,
   "id": "2c3d34e7",
   "metadata": {},
   "outputs": [],
   "source": [
    "10000"
   ]
  },
  {
   "cell_type": "code",
   "execution_count": null,
   "id": "debeee6c",
   "metadata": {},
   "outputs": [],
   "source": [
    "10_000"
   ]
  },
  {
   "cell_type": "markdown",
   "id": "d6093ce9",
   "metadata": {},
   "source": [
    "or even:"
   ]
  },
  {
   "cell_type": "code",
   "execution_count": null,
   "id": "caea1a8f",
   "metadata": {},
   "outputs": [],
   "source": [
    "1_00_00"
   ]
  },
  {
   "cell_type": "markdown",
   "id": "4db1f0b3",
   "metadata": {},
   "source": [
    "For the same reason, we could also write 1000 as:"
   ]
  },
  {
   "cell_type": "code",
   "execution_count": null,
   "id": "e10be0c9",
   "metadata": {},
   "outputs": [],
   "source": [
    "1_000"
   ]
  },
  {
   "cell_type": "markdown",
   "id": "eed14159",
   "metadata": {},
   "source": [
    "The underscores make no difference to the resulting number in Python; it\n",
    "is up to us whether we want to use them to make it easier for us humans\n",
    "to read the value when we see the code."
   ]
  },
  {
   "cell_type": "code",
   "execution_count": null,
   "id": "1864b3d1",
   "metadata": {},
   "outputs": [],
   "source": [
    "# Make an array of integers to store the \"Yes\" counts.\n",
    "yeses = np.zeros(n, dtype=int)\n",
    "\n",
    "for i in range(n):\n",
    "    answers = rnd.choice(['No', 'Yes'], size=50)\n",
    "    yeses[i] = np.sum(answers == 'Yes')\n",
    "\n",
    "# Produce a histogram of the trial results.\n",
    "# Use integer bins for histogram, from 10 through 40.\n",
    "plt.hist(yeses, bins=range(10, 41))\n",
    "plt.title('Number of yes votes out of 50, in null universe')"
   ]
  },
  {
   "cell_type": "markdown",
   "id": "36440aa6",
   "metadata": {},
   "source": [
    "In the histogram above, we see that about 11 percent of our trials had\n",
    "30 or more voters in favor, despite the fact that they were drawn from a\n",
    "population that was split 50-50. Python will calculate this proportion\n",
    "directly if we add the following commands to the above:"
   ]
  },
  {
   "cell_type": "code",
   "execution_count": null,
   "id": "05e66cc6",
   "metadata": {},
   "outputs": [],
   "source": [
    "k = np.sum(yeses >= 30)\n",
    "kk = k / n\n",
    "print('Proportion >= 30:', np.round(kk, 2))"
   ]
  }
 ],
 "metadata": {
  "jupytext": {
   "cell_metadata_filter": "-all",
   "main_language": "python",
   "notebook_metadata_filter": "-all"
  },
  "kernelspec": {
   "display_name": "Python (Pyodide)",
   "name": "python"
  }
 },
 "nbformat": 4,
 "nbformat_minor": 5
}
