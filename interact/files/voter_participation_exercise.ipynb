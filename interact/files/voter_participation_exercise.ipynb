{
 "cells": [
  {
   "cell_type": "markdown",
   "id": "0d6543c6",
   "metadata": {},
   "source": [
    "# Voter participation in 1844 election"
   ]
  },
  {
   "cell_type": "markdown",
   "id": "57a00312",
   "metadata": {},
   "source": [
    "Notebook for voter participation exercise."
   ]
  },
  {
   "cell_type": "code",
   "execution_count": null,
   "id": "d8236997",
   "metadata": {},
   "outputs": [],
   "source": [
    "import numpy as np\n",
    "import pandas as pd\n",
    "\n",
    "rnd = np.random.default_rng()\n",
    "\n",
    "voter_df = pd.read_csv('data/election_1844.csv')\n",
    "participation = np.array(voter_df['Participation'])\n",
    "spread = np.array(voter_df['Spread'])"
   ]
  }
 ],
 "metadata": {
  "jupytext": {
   "cell_metadata_filter": "-all",
   "main_language": "python",
   "notebook_metadata_filter": "-all"
  },
  "kernelspec": {
   "display_name": "Python (Pyodide)",
   "name": "python"
  }
 },
 "nbformat": 4,
 "nbformat_minor": 5
}
