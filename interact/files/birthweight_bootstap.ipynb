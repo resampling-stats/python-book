{
 "cells": [
  {
   "cell_type": "markdown",
   "id": "c42b0652",
   "metadata": {},
   "source": [
    "# Bootstrap test of birthweight difference"
   ]
  },
  {
   "cell_type": "markdown",
   "id": "d0d78baa",
   "metadata": {},
   "source": [
    "We run bootstrap resampling from pooled drug and control birthweights,\n",
    "to establish the null-world distribution of the mean difference in\n",
    "weights. Then we compare the observed difference in means to the\n",
    "null-world distribution to ask if the actual value is plausible in the\n",
    "null world."
   ]
  },
  {
   "cell_type": "code",
   "execution_count": null,
   "id": "2b106fcd",
   "metadata": {},
   "outputs": [],
   "source": [
    "import numpy as np\n",
    "import pandas as pd\n",
    "import matplotlib.pyplot as plt\n",
    "\n",
    "rnd = np.random.default_rng()\n",
    "\n",
    "# Get treatment and control values from data file.\n",
    "birth_df = pd.read_csv('data/birthweights.csv')\n",
    "# Birthweidhts for Drug A participants.\n",
    "treat_df = birth_df[birth_df['Treatment'] == 'Drug A']\n",
    "# Birthweigts as array.\n",
    "treat = np.array(treat_df['Birthweight'])\n",
    "# Control birthweights.\n",
    "control_df = birth_df[birth_df['Treatment'] == 'Control']\n",
    "# Birthweigts as array.\n",
    "control = np.array(control_df['Birthweight'])\n",
    "\n",
    "# Actual difference.\n",
    "actual_diff = np.mean(treat) - np.mean(control)\n",
    "# Show the actual difference.\n",
    "actual_diff"
   ]
  },
  {
   "cell_type": "markdown",
   "id": "305ddf7d",
   "metadata": {},
   "source": [
    "Proceed with the simulation:"
   ]
  },
  {
   "cell_type": "code",
   "execution_count": null,
   "id": "34069e84",
   "metadata": {},
   "outputs": [],
   "source": [
    "# Concatenate treatment and control arrays.\n",
    "both = np.concatenate([treat, control])\n",
    "\n",
    "# Number of trials.\n",
    "n_trials = 10_000\n",
    "\n",
    "# Make array to store results for each trial.\n",
    "results = np.zeros(n_trials)\n",
    "\n",
    "# Do 10000 simulations\n",
    "for i in range(n_trials):\n",
    "    # Take a resample of 15 from all birth weights.\n",
    "    fake_treat = rnd.choice(both, size=15)\n",
    "    # Take a second, similar resample.\n",
    "    fake_control = rnd.choice(both, size=15)\n",
    "    # Find the means of the two resamples.\n",
    "    mt = np.mean(fake_treat)\n",
    "    mc = np.mean(fake_control)\n",
    "    # Find the difference between the means of the two resamples.\n",
    "    diff = mt - mc\n",
    "    # Keep score of the result.\n",
    "    results[i] = diff\n",
    "    # End the simulation experiment, go back and repeat\n",
    "# Produce a histogram of the resample differences\n",
    "plt.hist(results, bins=25)\n",
    "plt.title('Null-world distribution of treatment/control difference')\n",
    "plt.xlabel('Null-world mean treatment - mean control')\n",
    "# How often did resample differences exceed the observed difference of\n",
    ".82?\n",
    "k = sum(results >= actual_diff)\n",
    "kk = k / n_trials\n",
    "print('Proportion null-world differences >= actual difference:', kk)"
   ]
  },
  {
   "cell_type": "markdown",
   "id": "dc84dfec",
   "metadata": {},
   "source": [
    "Proceed with the simulation:"
   ]
  }
 ],
 "metadata": {
  "jupytext": {
   "cell_metadata_filter": "-all",
   "main_language": "python",
   "notebook_metadata_filter": "-all"
  },
  "kernelspec": {
   "display_name": "Python (Pyodide)",
   "name": "python"
  }
 },
 "nbformat": 4,
 "nbformat_minor": 5
}
