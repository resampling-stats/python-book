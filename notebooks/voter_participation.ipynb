{
 "cells": [
  {
   "cell_type": "markdown",
   "id": "0a81341d",
   "metadata": {},
   "source": [
    "# Voter participation in 1844 election"
   ]
  },
  {
   "cell_type": "markdown",
   "id": "cd24fde8",
   "metadata": {},
   "source": [
    "Notebook for voter participation exercise."
   ]
  },
  {
   "cell_type": "code",
   "execution_count": null,
   "id": "69378fc7",
   "metadata": {},
   "outputs": [],
   "source": [
    "import numpy as np\n",
    "import pandas as pd\n",
    "\n",
    "rnd = np.random.default_rng()\n",
    "\n",
    "voter_df = pd.read_csv('data/election_1844.csv')\n",
    "participation = np.array(voter_df['Participation'])\n",
    "spread = np.array(voter_df['Spread'])"
   ]
  }
 ],
 "metadata": {
  "jupytext": {
   "cell_metadata_filter": "-all",
   "main_language": "python",
   "notebook_metadata_filter": "-all"
  }
 },
 "nbformat": 4,
 "nbformat_minor": 5
}