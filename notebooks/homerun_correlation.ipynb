{
 "cells": [
  {
   "cell_type": "markdown",
   "id": "8ac4f3f7",
   "metadata": {},
   "source": [
    "# Homeruns and strikeout correlation"
   ]
  },
  {
   "cell_type": "markdown",
   "id": "7c1aa428",
   "metadata": {},
   "source": [
    "Exercise on relationship of home runs and strikeouts."
   ]
  },
  {
   "cell_type": "code",
   "execution_count": null,
   "id": "3f8ba3e3",
   "metadata": {},
   "outputs": [],
   "source": [
    "import numpy as np\n",
    "\n",
    "rnd = np.random.default_rng()\n",
    "\n",
    "homeruns = np.array([14, 20, 0, 38, 9, 38, 22, 31, 33,\n",
    "                     11, 40, 5, 15, 32, 3, 29, 5, 32])\n",
    "strikeout = np.array([135, 153, 120, 161, 138, 175, 126, 200, 205,\n",
    "                      147, 165, 124, 169, 156, 36, 98, 82, 131])\n",
    "\n",
    "# Exercise - complete this program."
   ]
  }
 ],
 "metadata": {
  "jupytext": {
   "cell_metadata_filter": "-all",
   "main_language": "python",
   "notebook_metadata_filter": "-all"
  }
 },
 "nbformat": 4,
 "nbformat_minor": 5
}