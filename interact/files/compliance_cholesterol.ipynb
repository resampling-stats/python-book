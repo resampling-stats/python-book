{
 "cells": [
  {
   "cell_type": "markdown",
   "id": "eed12660",
   "metadata": {},
   "source": [
    "# Testing association of compliance and cholesterol values"
   ]
  },
  {
   "cell_type": "markdown",
   "id": "971f7784",
   "metadata": {},
   "source": [
    "We have 164 rows, each representing a person taking a medication. For\n",
    "each row (each person) we have a pair of measurements. The first is\n",
    "their percent compliance in taking their prescribed medication. The\n",
    "second is the decrease of their blood cholesterol. We want to see\n",
    "whether the observed association of these values is plausible on the\n",
    "null hypothesis — that there is no association."
   ]
  },
  {
   "cell_type": "code",
   "execution_count": null,
   "id": "bc893e25",
   "metadata": {},
   "outputs": [],
   "source": [
    "# Load the Numpy library for arrays.\n",
    "import numpy as np\n",
    "# Load the Pandas library for loading and selecting data.\n",
    "import pandas as pd\n",
    "# Plotting library.\n",
    "import matplotlib.pyplot as plt\n",
    "\n",
    "# Set up the random number generator\n",
    "rnd = np.random.default_rng()\n",
    "\n",
    "# Data as arrays.\n",
    "df = pd.read_csv('data/cholost.csv')\n",
    "compliance = np.array(df['percent_compliance'])\n",
    "cholesterol = np.array(df['cholesterol_decrease'])\n",
    "\n",
    "# Rename the two sequences to match the description in the text.\n",
    "x = compliance\n",
    "y = cholesterol\n",
    "\n",
    "# Step 1 above\n",
    "actual_prod = x * y\n",
    "# Note: actual_sum = 439,141\n",
    "actual_sum = np.sum(actual_prod)\n",
    "# Show the result.\n",
    "actual_sum"
   ]
  },
  {
   "cell_type": "code",
   "execution_count": null,
   "id": "028b5dc4",
   "metadata": {},
   "outputs": [],
   "source": [
    "# Set the number of trials\n",
    "n_trials = 10_000\n",
    "\n",
    "# An empty array to store the trial results.\n",
    "results = np.zeros(n_trials)\n",
    "\n",
    "# Do 10,000 experiments (step 4)\n",
    "for i in range(n_trials):\n",
    "    # Step 2 above.\n",
    "    y_random = rnd.permuted(y)\n",
    "    # Step 3 above.\n",
    "    fake_prod = x * y_random\n",
    "    fake_sum = np.sum(fake_prod)\n",
    "    # Step 3 above\n",
    "    results[i] = fake_sum\n",
    "    # Step 4 above\n",
    "\n",
    "# Step 5 above\n",
    "k = np.sum(results >= actual_sum)\n",
    "kk = k / n_trials\n",
    "\n",
    "print('Proportion product sums >= observed:', kk)"
   ]
  }
 ],
 "metadata": {
  "jupytext": {
   "cell_metadata_filter": "-all",
   "main_language": "python",
   "notebook_metadata_filter": "-all"
  },
  "kernelspec": {
   "display_name": "Python (Pyodide)",
   "name": "python"
  }
 },
 "nbformat": 4,
 "nbformat_minor": 5
}
