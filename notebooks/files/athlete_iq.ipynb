{
 "cells": [
  {
   "cell_type": "markdown",
   "id": "a3aaf6c7",
   "metadata": {},
   "source": [
    "# Association of athletic and IQ scores"
   ]
  },
  {
   "cell_type": "markdown",
   "id": "0c0ff465",
   "metadata": {},
   "source": [
    "We use random pairings of the athletic and IQ scores to find the\n",
    "null-world distribution of the sum of the products of these scores."
   ]
  },
  {
   "cell_type": "code",
   "execution_count": null,
   "id": "2d80caf0",
   "metadata": {},
   "outputs": [],
   "source": [
    "# Load the Numpy library for arrays.\n",
    "import numpy as np\n",
    "# Load the Pandas library for loading and selecting data.\n",
    "import pandas as pd\n",
    "# Plotting library.\n",
    "import matplotlib.pyplot as plt\n",
    "\n",
    "# Set up the random number generator\n",
    "rnd = np.random.default_rng()"
   ]
  },
  {
   "cell_type": "markdown",
   "id": "a4364510",
   "metadata": {},
   "source": [
    "We load the file containing the data:"
   ]
  },
  {
   "cell_type": "code",
   "execution_count": null,
   "id": "41a9c39d",
   "metadata": {},
   "outputs": [],
   "source": [
    "# Read the data file containing athletic and IQ scores.\n",
    "ath_iq_df = pd.read_csv('data/athletic_iq.csv')\n",
    "# Show the data frame.\n",
    "ath_iq_df"
   ]
  },
  {
   "cell_type": "code",
   "execution_count": null,
   "id": "2e6fac26",
   "metadata": {},
   "outputs": [],
   "source": [
    "# Turn athletic and IQ scores into arrays.\n",
    "ath = np.array(ath_iq_df['athletic_score'])\n",
    "iq = np.array(ath_iq_df['iq_score'])"
   ]
  },
  {
   "cell_type": "code",
   "execution_count": null,
   "id": "e6fa3d30",
   "metadata": {},
   "outputs": [],
   "source": [
    "# Multiply the two sets of scores together.\n",
    "actual_prod = ath * iq\n",
    "# Sum the results — the \"observed value.\"\n",
    "actual_sum = np.sum(actual_prod)\n",
    "actual_sum"
   ]
  },
  {
   "cell_type": "code",
   "execution_count": null,
   "id": "4ba6c1fd",
   "metadata": {},
   "outputs": [],
   "source": [
    "# Set the number of trials\n",
    "n_trials = 10_000\n",
    "\n",
    "# An empty array to store the trial results.\n",
    "results = np.zeros(n_trials)\n",
    "\n",
    "# Do 10,000 experiments.\n",
    "for i in range(n_trials):\n",
    "    # Shuffle the IQ scores so we can pair them against athletic scores.\n",
    "    shuffled = rnd.permuted(iq)\n",
    "    # Multiply the shuffled IQ scores by the athletic scores. (Note that we\n",
    "    # could shuffle the athletic scores too but it would not achieve any\n",
    "    # greater randomization, because shuffling one of the set of scores\n",
    "    # already gives a random pairing between the sets of scores.\n",
    "    fake_prod = ath * shuffled\n",
    "    # Sum the randomized multiplications.\n",
    "    fake_sum = np.sum(fake_prod)\n",
    "    # Subtract the sum from the sum of the \"observed\" multiplication.\n",
    "    diff = actual_sum - fake_sum\n",
    "    # Keep track of the result in results array.\n",
    "    results[i] = diff\n",
    "    # End one trial, go back and repeat until 10000 trials are complete.\n",
    "# Obtain a histogram of the trial results.\n",
    "plt.hist(results, bins=25)\n",
    "plt.title('Random sums of products')\n",
    "plt.xlabel('Observed sum minus sum of random pairing')"
   ]
  },
  {
   "cell_type": "markdown",
   "id": "b450b847",
   "metadata": {},
   "source": [
    "We see that obtaining a chance trial result as great as that observed\n",
    "was rare. Python will calculate this proportion for us:"
   ]
  },
  {
   "cell_type": "code",
   "execution_count": null,
   "id": "b4ce7428",
   "metadata": {},
   "outputs": [],
   "source": [
    "# Determine in how many trials the random sum of products was less than\n",
    "# the observed sum of products.\n",
    "k = np.sum(results <= 0)\n",
    "# Convert to a proportion.\n",
    "kk = k / n_trials\n",
    "# Print the result.\n",
    "print('Proportion of random pairings giving sum <= observed:', kk)"
   ]
  }
 ],
 "metadata": {
  "jupytext": {
   "cell_metadata_filter": "-all",
   "main_language": "python",
   "notebook_metadata_filter": "-all"
  },
  "kernelspec": {
   "display_name": "Python (Pyodide)",
   "name": "python"
  }
 },
 "nbformat": 4,
 "nbformat_minor": 5
}
