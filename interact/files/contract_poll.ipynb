{
 "cells": [
  {
   "cell_type": "markdown",
   "id": "9d2db63a",
   "metadata": {},
   "source": [
    "# Contract poll simulation"
   ]
  },
  {
   "cell_type": "markdown",
   "id": "b29eedb2",
   "metadata": {},
   "source": [
    "This Python notebook generates samples of 50 simulated voters on the\n",
    "assumption that only 50 percent are in favor of the contract. Then it\n",
    "counts (`sum`s) the number of samples where over 29 (30 or more) of the\n",
    "50 respondents said they were in favor of the contract. (That is, we use\n",
    "a “one-tailed test.”) The result in the `kk` variable is the chance of a\n",
    "“false positive,” that is, 30 or more people saying they favor a\n",
    "contract when support for the proposal is actually split evenly down the\n",
    "middle."
   ]
  },
  {
   "cell_type": "code",
   "execution_count": null,
   "id": "a1ffa644",
   "metadata": {},
   "outputs": [],
   "source": [
    "import numpy as np\n",
    "import matplotlib.pyplot as plt\n",
    "\n",
    "rnd = np.random.default_rng()\n",
    "\n",
    "# We will do 10,000 iterations.\n",
    "n = 10_000"
   ]
  },
  {
   "cell_type": "markdown",
   "id": "84f3ae66",
   "metadata": {},
   "source": [
    "**Note: Note 21.1: Underscores in Python integers**\n",
    "\n",
    "Notice the line above: `n = 10_000`. This is an alternative way of\n",
    "writing the familiar `n = 10000`. Python allows underscores among the\n",
    "digits when we type an integer — it will treat them as decoration, and\n",
    "ignore them in resolving the number we intend. This means that all these\n",
    "are equivalent to Python:"
   ]
  },
  {
   "cell_type": "code",
   "execution_count": null,
   "id": "d267b0b7",
   "metadata": {},
   "outputs": [],
   "source": [
    "10000"
   ]
  },
  {
   "cell_type": "code",
   "execution_count": null,
   "id": "b9974d3c",
   "metadata": {},
   "outputs": [],
   "source": [
    "10_000"
   ]
  },
  {
   "cell_type": "markdown",
   "id": "c50492b7",
   "metadata": {},
   "source": [
    "or even:"
   ]
  },
  {
   "cell_type": "code",
   "execution_count": null,
   "id": "e6496ee1",
   "metadata": {},
   "outputs": [],
   "source": [
    "1_00_00"
   ]
  },
  {
   "cell_type": "markdown",
   "id": "ec7198bb",
   "metadata": {},
   "source": [
    "For the same reason, we could also write 1000 as:"
   ]
  },
  {
   "cell_type": "code",
   "execution_count": null,
   "id": "02892b88",
   "metadata": {},
   "outputs": [],
   "source": [
    "1_000"
   ]
  },
  {
   "cell_type": "markdown",
   "id": "8d7da8f4",
   "metadata": {},
   "source": [
    "The underscores make no difference to the resulting number in Python; it\n",
    "is up to us whether we use them. They can make it easier for us humans\n",
    "to read the value.\n",
    "\n",
    "**End of note**\n",
    "\n",
    "\n"
   ]
  },
  {
   "cell_type": "code",
   "execution_count": null,
   "id": "13b53ac8",
   "metadata": {},
   "outputs": [],
   "source": [
    "# Make an array of integers to store the \"Yes\" counts.\n",
    "yeses = np.zeros(n, dtype=int)\n",
    "\n",
    "for i in range(n):\n",
    "    answers = rnd.choice(['No', 'Yes'], size=50)\n",
    "    yeses[i] = np.sum(answers == 'Yes')\n",
    "\n",
    "# Produce a histogram of the trial results.\n",
    "# Use integer bins for histogram, from 10 through 40.\n",
    "plt.hist(yeses, bins=range(10, 41))\n",
    "plt.title('Number of yes votes out of 50, in null universe')"
   ]
  },
  {
   "cell_type": "markdown",
   "id": "b0f5569c",
   "metadata": {},
   "source": [
    "In the histogram above, we see that about 11 percent of our trials had\n",
    "30 or more voters in favor, despite the fact that they were drawn from a\n",
    "population that was split 50-50. Python will calculate this proportion\n",
    "directly if we add the following commands to the above:"
   ]
  },
  {
   "cell_type": "code",
   "execution_count": null,
   "id": "6a339cb2",
   "metadata": {},
   "outputs": [],
   "source": [
    "k = np.sum(yeses >= 30)\n",
    "kk = k / n\n",
    "print('Proportion >= 30:', np.round(kk, 2))"
   ]
  }
 ],
 "metadata": {
  "jupytext": {
   "cell_metadata_filter": "-all",
   "main_language": "python",
   "notebook_metadata_filter": "-all"
  },
  "kernelspec": {
   "display_name": "Python (Pyodide)",
   "name": "python"
  }
 },
 "nbformat": 4,
 "nbformat_minor": 5
}
