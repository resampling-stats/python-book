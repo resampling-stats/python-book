{
 "cells": [
  {
   "cell_type": "markdown",
   "id": "e3a24212",
   "metadata": {},
   "source": [
    "# Homeruns and strikeout sum of products."
   ]
  },
  {
   "cell_type": "markdown",
   "id": "8f052bf1",
   "metadata": {},
   "source": [
    "Exercise on relationship of home runs and strikeouts, using sum of\n",
    "products."
   ]
  },
  {
   "cell_type": "code",
   "execution_count": null,
   "id": "350894a9",
   "metadata": {},
   "outputs": [],
   "source": [
    "import numpy as np\n",
    "\n",
    "rnd = np.random.default_rng()\n",
    "\n",
    "homeruns = np.array([14, 20, 0, 38, 9, 38, 22, 31, 33,\n",
    "                     11, 40, 5, 15, 32, 3, 29, 5, 32])\n",
    "strikeout = np.array([135, 153, 120, 161, 138, 175, 126, 200, 205,\n",
    "                      147, 165, 124, 169, 156, 36, 98, 82, 131])\n",
    "\n",
    "# Exercise - complete this program."
   ]
  }
 ],
 "metadata": {
  "jupytext": {
   "cell_metadata_filter": "-all",
   "main_language": "python",
   "notebook_metadata_filter": "-all"
  },
  "kernelspec": {
   "display_name": "Python (Pyodide)",
   "name": "python"
  }
 },
 "nbformat": 4,
 "nbformat_minor": 5
}
