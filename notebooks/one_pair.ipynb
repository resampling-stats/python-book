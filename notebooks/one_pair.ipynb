{
 "cells": [
  {
   "cell_type": "markdown",
   "id": "2132baa5",
   "metadata": {},
   "source": [
    "# One pair"
   ]
  },
  {
   "cell_type": "markdown",
   "id": "8d58cf4f",
   "metadata": {},
   "source": [
    "This is a simulation to find the probability of exactly one pair in a\n",
    "poker hand of five cards."
   ]
  },
  {
   "cell_type": "code",
   "execution_count": null,
   "id": "49c769ae",
   "metadata": {},
   "outputs": [],
   "source": [
    "import numpy as np\n",
    "rnd = np.random.default_rng()"
   ]
  },
  {
   "cell_type": "code",
   "execution_count": null,
   "id": "a59d710c",
   "metadata": {},
   "outputs": [],
   "source": [
    "# Create a bucket (vector) called a with four \"1's,\" four \"2's,\" four \"3's,\"\n",
    "# etc., to represent a deck of cards\n",
    "one_suit = np.arange(1, 14)\n",
    "one_suit"
   ]
  },
  {
   "cell_type": "code",
   "execution_count": null,
   "id": "6d21ed1d",
   "metadata": {},
   "outputs": [],
   "source": [
    "# Repeat values for one suit four times to make a 52 card deck of values.\n",
    "deck = np.repeat(one_suit, 4)\n",
    "deck"
   ]
  },
  {
   "cell_type": "code",
   "execution_count": null,
   "id": "3ef4b01b",
   "metadata": {},
   "outputs": [],
   "source": [
    "# Array to store result of each trial.\n",
    "z = np.zeros(10000)\n",
    "\n",
    "# Repeat the following steps 10000 times\n",
    "for i in range(10000):\n",
    "    # Shuffle the deck\n",
    "    shuffled = rnd.permuted(deck)\n",
    "\n",
    "    # Take the first five cards to make a hand.\n",
    "    hand = shuffled[:5]\n",
    "\n",
    "    # How many pairs?\n",
    "    # Counts for each card rank.\n",
    "    repeat_nos = np.bincount(hand)\n",
    "    n_pairs = np.sum(repeat_nos == 2)\n",
    "\n",
    "    # Keep score of # of pairs\n",
    "    z[i] = n_pairs\n",
    "\n",
    "    # End loop, go back and repeat\n",
    "\n",
    "# How often was there 1 pair?\n",
    "k = np.sum(z == 1)\n",
    "\n",
    "# Convert to proportion.\n",
    "kk = k / 10000\n",
    "\n",
    "# Show the result.\n",
    "print(kk)"
   ]
  }
 ],
 "metadata": {
  "jupytext": {
   "cell_metadata_filter": "-all",
   "main_language": "python",
   "notebook_metadata_filter": "-all"
  }
 },
 "nbformat": 4,
 "nbformat_minor": 5
}
