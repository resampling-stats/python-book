{
 "cells": [
  {
   "cell_type": "markdown",
   "id": "be170fc2",
   "metadata": {},
   "source": [
    "# Starting with Pandas"
   ]
  },
  {
   "cell_type": "markdown",
   "id": "fca7c558",
   "metadata": {},
   "source": [
    "Here we use the Pandas library to load table data into Python.\n",
    "\n",
    "Thus far we have used the Numpy library to work with data in arrays. As\n",
    "always with Python, when we want to use a library — like Numpy, or\n",
    "Pandas — we have to `import` it first.\n",
    "\n",
    "We have used the term *library* here, but Python uses the term *module*\n",
    "to refer to libraries of code and data that you `import`. We will use\n",
    "the terms “library” and “module” to mean the same thing — a Python\n",
    "module.\n",
    "\n",
    "When using Numpy, we write:"
   ]
  },
  {
   "cell_type": "code",
   "execution_count": null,
   "id": "d80cc465",
   "metadata": {},
   "outputs": [],
   "source": [
    "# Import the Numpy library (module), name it \"np\".\n",
    "import numpy as np"
   ]
  },
  {
   "cell_type": "markdown",
   "id": "e1915f8d",
   "metadata": {},
   "source": [
    "Now we will use the Pandas library (module).\n",
    "\n",
    "We can import Pandas like this:"
   ]
  },
  {
   "cell_type": "code",
   "execution_count": null,
   "id": "3c6d9bfd",
   "metadata": {},
   "outputs": [],
   "source": [
    "# Import the Pandas library (module)\n",
    "import pandas"
   ]
  },
  {
   "cell_type": "markdown",
   "id": "681c5990",
   "metadata": {},
   "source": [
    "As Numpy has a standard abbreviation `np`, that almost everyone writing\n",
    "Python code will recognize and use, so Pandas has the standard\n",
    "abbreviation `pd`:"
   ]
  },
  {
   "cell_type": "code",
   "execution_count": null,
   "id": "2aea65d7",
   "metadata": {},
   "outputs": [],
   "source": [
    "# Import the Pandas library (module), name it \"pd\".\n",
    "import pandas as pd"
   ]
  },
  {
   "cell_type": "markdown",
   "id": "ab0c65a0",
   "metadata": {},
   "source": [
    "Pandas is the standard data science library for Python. It is\n",
    "particularly good at loading data files, and presenting them to us as a\n",
    "useful table-like structure, called a *data frame*.\n",
    "\n",
    "We start by using Pandas to load our data file:"
   ]
  },
  {
   "cell_type": "code",
   "execution_count": null,
   "id": "702cd0e1",
   "metadata": {},
   "outputs": [],
   "source": [
    "district_income = pd.read_csv('data/congress_2023.csv')"
   ]
  },
  {
   "cell_type": "markdown",
   "id": "69aa5a7d",
   "metadata": {},
   "source": [
    "We have thus far done many operations that returned Numpy *arrays*.\n",
    "`pd.read_csv` returns a Pandas *data frame*:"
   ]
  },
  {
   "cell_type": "code",
   "execution_count": null,
   "id": "1bef6bb9",
   "metadata": {},
   "outputs": [],
   "source": [
    "type(district_income)"
   ]
  },
  {
   "cell_type": "markdown",
   "id": "3e182abb",
   "metadata": {},
   "source": [
    "A data frame is Pandas’ own way of representing a table, with columns\n",
    "and rows. You can think of it as Python’s version of a spreadsheet. As\n",
    "strings or Numpy arrays have *methods* (functions attached to the\n",
    "array), so Pandas data frames have methods. These methods do things with\n",
    "the data frame to which they are attached. For example, the `head`\n",
    "method of the data frame shows (by default) the first five rows in the\n",
    "table:"
   ]
  },
  {
   "cell_type": "code",
   "execution_count": null,
   "id": "b87207c2",
   "metadata": {},
   "outputs": [],
   "source": [
    "# Show the first five rows in the data frame\n",
    "district_income.head()"
   ]
  },
  {
   "cell_type": "markdown",
   "id": "9d222d1d",
   "metadata": {},
   "source": [
    "The data are in income order, from lowest to highest, so the first five\n",
    "districts are those with the lowest household income.\n",
    "\n",
    "<div class=\"callout callout-style-default callout-note callout-titled\">\n",
    "\n",
    "<div class=\"callout-header d-flex align-content-center\">\n",
    "\n",
    "<div class=\"callout-icon-container\">\n",
    "\n",
    "<i class='callout-icon'></i>\n",
    "\n",
    "</div>\n",
    "\n",
    "<div class=\"callout-title-container flex-fill\">\n",
    "\n",
    "Sorting\n",
    "\n",
    "</div>\n",
    "\n",
    "</div>\n",
    "\n",
    "<div class=\"callout-body-container callout-body\">\n",
    "\n",
    "If the data were not already in income order, we could have sorted them\n",
    "with NumPy’s `sort` function.\n",
    "\n",
    "</div>\n",
    "\n",
    "</div>\n",
    "\n",
    "We are particularly interested in the column named `Median_Income`.\n",
    "\n",
    "You may remember the idea of *indexing*, introduced in\n",
    "<a href=\"#sec-array-indexing\" class=\"quarto-xref\"><span\n",
    "class=\"quarto-unresolved-ref\">sec-array-indexing</span></a>. Indexing\n",
    "occurs when we fetch data from within a container, such as a string or\n",
    "an array. We do this by putting square brackets `[]` after the value we\n",
    "want to index into, and put something inside the brackets to say what we\n",
    "want.\n",
    "\n",
    "For example, to get the *first* element of the `priv` array above, we\n",
    "use indexing:"
   ]
  },
  {
   "cell_type": "code",
   "execution_count": null,
   "id": "00bf95ff",
   "metadata": {},
   "outputs": [],
   "source": [
    "# Fetch the first element of the priv array with indexing.\n",
    "# This is the element at position 0.\n",
    "priv[0]"
   ]
  },
  {
   "cell_type": "markdown",
   "id": "397e436a",
   "metadata": {},
   "source": [
    "As you can index into strings and Numpy arrays, by using square\n",
    "brackets, so you can index into Pandas data frames. Instead of putting\n",
    "the *position* between the square brackets, we can put the *column\n",
    "name*. This fetches the data from that column, returning a new type of\n",
    "value called a Pandas *Series*."
   ]
  },
  {
   "cell_type": "code",
   "execution_count": null,
   "id": "94fc078c",
   "metadata": {},
   "outputs": [],
   "source": [
    "# Index into Pandas data frame to get one column of data.\n",
    "# Notice we use a string between the square brackets, giving the column name.\n",
    "income_col = district_income['Median_Income']\n",
    "# The value that comes back is of type Series.  A Series represents the\n",
    "# data from a single column.\n",
    "type(income_col)"
   ]
  },
  {
   "cell_type": "markdown",
   "id": "c53505b2",
   "metadata": {},
   "source": [
    "We want to go straight to our familiar Numpy arrays, so we convert the\n",
    "column of data into a Numpy array, using the `np.array` function you\n",
    "have already seen:\n",
    "\n"
   ]
  },
  {
   "cell_type": "code",
   "execution_count": null,
   "id": "0ff1d924",
   "metadata": {},
   "outputs": [],
   "source": [
    "# Convert column data into a Numpy array.\n",
    "incomes = np.array(income_col)\n",
    "# Show the first five values, by indexing with a slice.\n",
    "incomes[:5]"
   ]
  }
 ],
 "metadata": {
  "jupytext": {
   "cell_metadata_filter": "-all",
   "main_language": "python",
   "notebook_metadata_filter": "-all"
  },
  "kernelspec": {
   "display_name": "Python (Pyodide)",
   "name": "python"
  }
 },
 "nbformat": 4,
 "nbformat_minor": 5
}
