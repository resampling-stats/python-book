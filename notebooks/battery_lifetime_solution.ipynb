{
 "cells": [
  {
   "cell_type": "markdown",
   "id": "f4ab9fa4",
   "metadata": {},
   "source": [
    "# Battery lifetime solution\n"
   ]
  },
  {
   "cell_type": "code",
   "execution_count": null,
   "id": "5f545571",
   "metadata": {},
   "outputs": [],
   "source": [
    "import numpy as np\n",
    "import matplotlib.pyplot as plt\n",
    "\n",
    "rnd = np.random.default_rng()\n",
    "\n",
    "lifetimes = np.array([30, 32, 31, 28, 31, 29, 29, 24, 30, 31,\n",
    "                      28, 28, 32, 31, 24, 23, 31, 27, 27, 31])\n",
    "\n",
    "print('Mean is:', np.mean(lifetimes))"
   ]
  },
  {
   "cell_type": "code",
   "execution_count": null,
   "id": "bbca87eb",
   "metadata": {},
   "outputs": [],
   "source": [
    "n_lifetimes = len(lifetimes)\n",
    "results = np.zeros(n_trials)\n",
    "\n",
    "for i in range(n_trials):\n",
    "    # Draw 20 lifetimes from \"lifetimes, randomly and with replacement.\n",
    "    fake_lifetimes = rnd.choice(lifetimes, size=n_lifetimes)\n",
    "    # Find the average lifetime of the 20.\n",
    "    fake_mean = np.mean(fake_lifetimes)\n",
    "    # Keep score.\n",
    "    results[i] = fake_mean\n",
    "\n",
    "plt.hist(results, bins=25)\n",
    "plt.title('Bootstrap distribution of mean battery lifetimes')\n",
    "plt.xlabel('Bootstrap mean battery lifetime')\n",
    "\n",
    "mean_limits = np.quantile(results, [0.025, 0.975])\n",
    "\n",
    "print('95% percent limits for mean lifetimes:', mean_limits)"
   ]
  }
 ],
 "metadata": {
  "jupytext": {
   "cell_metadata_filter": "-all",
   "main_language": "python",
   "notebook_metadata_filter": "-all"
  }
 },
 "nbformat": 4,
 "nbformat_minor": 5
}
