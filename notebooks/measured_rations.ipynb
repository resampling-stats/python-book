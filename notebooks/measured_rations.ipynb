{
 "cells": [
  {
   "cell_type": "markdown",
   "id": "facfe8bb",
   "metadata": {},
   "source": [
    "# Pig rations via bootstrap"
   ]
  },
  {
   "cell_type": "markdown",
   "id": "cce692f3",
   "metadata": {},
   "source": [
    "Use the bootstrap (resampling with replacement) procedure to test\n",
    "whether the observed differences are surprising in the distribution of\n",
    "difference between new simulated samples.\n",
    "\n",
    "First we need to get the measured data from the data file using the\n",
    "Pandas library:"
   ]
  },
  {
   "cell_type": "code",
   "execution_count": null,
   "id": "8f97a88c",
   "metadata": {},
   "outputs": [],
   "source": [
    "# Load the Numpy library for arrays.\n",
    "import numpy as np\n",
    "# Load the Pandas library for loading and selecting data.\n",
    "import pandas as pd"
   ]
  },
  {
   "cell_type": "markdown",
   "id": "e674c8a5",
   "metadata": {},
   "source": [
    "We load the file containing the data:"
   ]
  },
  {
   "cell_type": "code",
   "execution_count": null,
   "id": "13c3b010",
   "metadata": {},
   "outputs": [],
   "source": [
    "# Read the data file containing pig ration data.\n",
    "rations_df = pd.read_csv('data/pig_rations.csv')\n",
    "# Show the first 5 rows.\n",
    "rations_df.head()"
   ]
  },
  {
   "cell_type": "markdown",
   "id": "47d3fcc0",
   "metadata": {},
   "source": [
    "Let us first select the rows containing data for ration B (we will get\n",
    "the rows for ration A afterwards):"
   ]
  },
  {
   "cell_type": "code",
   "execution_count": null,
   "id": "250dbbe8",
   "metadata": {},
   "outputs": [],
   "source": [
    "# Select ration B rows.\n",
    "ration_b_df = rations_df[rations_df['ration'] == 'B']\n",
    "#  Show the first five rows.\n",
    "ration_b_df.head()"
   ]
  },
  {
   "cell_type": "markdown",
   "id": "6e953ca8",
   "metadata": {},
   "source": [
    "Finally for ration B, convert the weights to an array for use in the\n",
    "simulation."
   ]
  },
  {
   "cell_type": "code",
   "execution_count": null,
   "id": "88e48802",
   "metadata": {},
   "outputs": [],
   "source": [
    "b_weights = np.array(ration_b_df['weight_gain'])\n",
    "# Show the result.\n",
    "b_weights"
   ]
  },
  {
   "cell_type": "markdown",
   "id": "8a6f339b",
   "metadata": {},
   "source": [
    "Select ration A rows, and get the weights as an array:"
   ]
  },
  {
   "cell_type": "code",
   "execution_count": null,
   "id": "0c71ed8b",
   "metadata": {},
   "outputs": [],
   "source": [
    "ration_a_df = rations_df[rations_df['ration'] == 'A']\n",
    "a_weights = np.array(ration_a_df['weight_gain'])\n",
    "# Show the result.\n",
    "a_weights"
   ]
  },
  {
   "cell_type": "markdown",
   "id": "eb4983dd",
   "metadata": {},
   "source": [
    "We will use the `a_weights` and `b_weights` arrays for our simulation.\n",
    "We are going to shuffle these weights, so we first *concatenate* the two\n",
    "arrays (see <a href=\"#sec-concatenate\" class=\"quarto-xref\"><span\n",
    "class=\"quarto-unresolved-ref\">sec-concatenate</span></a>) so we can\n",
    "shuffle them:"
   ]
  },
  {
   "cell_type": "code",
   "execution_count": null,
   "id": "1c5c118b",
   "metadata": {},
   "outputs": [],
   "source": [
    "both = np.concatenate([a_weights, b_weights])\n",
    "both"
   ]
  },
  {
   "cell_type": "markdown",
   "id": "5626b893",
   "metadata": {},
   "source": [
    "Now do the simulation:"
   ]
  },
  {
   "cell_type": "code",
   "execution_count": null,
   "id": "ca805061",
   "metadata": {},
   "outputs": [],
   "source": [
    "import matplotlib.pyplot as plt\n",
    "\n",
    "# set up the random number generator\n",
    "rnd = np.random.default_rng()\n",
    "\n",
    "# Set the number of trials\n",
    "n_trials = 10_000\n",
    "\n",
    "# Set the sample size for each trial\n",
    "sample_size = 20\n",
    "\n",
    "# An empty array to store the trial results.\n",
    "results = np.zeros(n_trials)\n",
    "\n",
    "# Do 10,000 experiments.\n",
    "for i in range(n_trials):\n",
    "    # Take a \"resample\" of 12 with replacement from both and put it in fake_a\n",
    "    fake_a = rnd.choice(both, size=12)\n",
    "    # Likewise to make fake_b\n",
    "    fake_b = rnd.choice(both, size=12)\n",
    "    # Sum the first \"resample.\"\n",
    "    fake_a_sum = np.sum(fake_a)\n",
    "    # Sum the second \"resample.\"\n",
    "    fake_b_sum = np.sum(fake_b)\n",
    "    # Calculate the difference between the two resamples.\n",
    "    fake_diff = fake_a_sum - fake_b_sum\n",
    "    # Keep track of each trial result.\n",
    "    results[i] = fake_diff\n",
    "    # End one experiment, go back and repeat until all trials are complete,\n",
    "    # then proceed.\n",
    "# Produce a histogram of trial results.\n",
    "plt.hist(results, bins=25)\n",
    "plt.xlabel('Second resample minus first')\n",
    "plt.title('Distribution difference in sums of resamples')"
   ]
  },
  {
   "cell_type": "markdown",
   "id": "831ef059",
   "metadata": {},
   "source": [
    "From this histogram we see that a very small proportion of the trials\n",
    "produced a difference between groups as large as that observed (or\n",
    "larger). Python will calculate this for us with the following code:"
   ]
  },
  {
   "cell_type": "code",
   "execution_count": null,
   "id": "979432f0",
   "metadata": {},
   "outputs": [],
   "source": [
    "# Determine how many of the trials produced a difference between resamples.\n",
    "count_more = np.sum(results >= 38)\n",
    "# Likewise for a difference of -38.\n",
    "count_less = np.sum(results <= -38)\n",
    "# Add the two together.\n",
    "k = count_more + count_less\n",
    "# Divide by number of trials to convert to proportion.\n",
    "kk = k / n_trials\n",
    "# Print the result.\n",
    "print('Proportion of trials with either >=38 or <=-38:', kk)"
   ]
  }
 ],
 "metadata": {
  "jupytext": {
   "cell_metadata_filter": "-all",
   "main_language": "python",
   "notebook_metadata_filter": "-all"
  }
 },
 "nbformat": 4,
 "nbformat_minor": 5
}