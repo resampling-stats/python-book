{
 "cells": [
  {
   "cell_type": "markdown",
   "id": "db3d61e7",
   "metadata": {},
   "source": [
    "# Homeruns and strikeout correlation"
   ]
  },
  {
   "cell_type": "markdown",
   "id": "5e629190",
   "metadata": {},
   "source": [
    "Solution for exercise on relationship of home runs and strikeouts, using\n",
    "correlation coefficient."
   ]
  },
  {
   "cell_type": "code",
   "execution_count": null,
   "id": "9cb1f5df",
   "metadata": {},
   "outputs": [],
   "source": [
    "import numpy as np\n",
    "\n",
    "rnd = np.random.default_rng()\n",
    "\n",
    "homeruns = np.array([14, 20, 0, 38, 9, 38, 22, 31, 33,\n",
    "                     11, 40, 5, 15, 32, 3, 29, 5, 32])\n",
    "strikeout = np.array([135, 153, 120, 161, 138, 175, 126, 200, 205,\n",
    "                      147, 165, 124, 169, 156, 36, 98, 82, 131])"
   ]
  },
  {
   "cell_type": "code",
   "execution_count": null,
   "id": "f706d4c8",
   "metadata": {},
   "outputs": [],
   "source": [
    "# The correlation approach.\n",
    "actual_r = np.corrcoef(homeruns, strikeout)[0, 1]\n",
    "\n",
    "n_trials = 10_000\n",
    "results = np.zeros(n_trials)\n",
    "\n",
    "for i in range(n_trials):\n",
    "    shuffled_runs = rnd.permuted(homeruns)\n",
    "    fake_r = np.corrcoef(shuffled_runs, strikeout)[0, 1]\n",
    "    results[i] = fake_r\n",
    "\n",
    "plt.hist(results, bins=25)\n",
    "plt.title('Distribution of shuffled r')\n",
    "plt.xlabel('r for shuffled homeruns')\n",
    "\n",
    "k = np.sum(results >= actual_r)\n",
    "kk = k / n_trials\n",
    "\n",
    "print('p shuffled r >= actual:', np.round(kk, 3))"
   ]
  },
  {
   "cell_type": "markdown",
   "id": "033d1812",
   "metadata": {},
   "source": [
    "Interpretation: a correlation coefficient as high as the observed value\n",
    "(.62) occurred only about 0.3% of the time by chance. Hence,\n",
    "provisionally, we choose to reject chance as an explanation for such a\n",
    "high value of the correlation coefficient.\n",
    "\n",
    "Notice, we get the same answer for correlation coefficients as we do for\n",
    "sum of products. In fact, correlation coefficients must give us the same\n",
    "answer (apart from random variation from the permutation), as the tests\n",
    "of association are equivalent when we compare between different\n",
    "orderings of the same sequences."
   ]
  }
 ],
 "metadata": {
  "jupytext": {
   "cell_metadata_filter": "-all",
   "main_language": "python",
   "notebook_metadata_filter": "-all"
  }
 },
 "nbformat": 4,
 "nbformat_minor": 5
}
