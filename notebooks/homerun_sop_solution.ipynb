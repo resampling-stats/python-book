{
 "cells": [
  {
   "cell_type": "markdown",
   "id": "af1beeee",
   "metadata": {},
   "source": [
    "# Homeruns and strikeout sum of products."
   ]
  },
  {
   "cell_type": "markdown",
   "id": "b58d3265",
   "metadata": {},
   "source": [
    "Solution to exercise on relationship of home runs and strikeouts, using\n",
    "sum of products."
   ]
  },
  {
   "cell_type": "code",
   "execution_count": null,
   "id": "67491561",
   "metadata": {},
   "outputs": [],
   "source": [
    "import numpy as np\n",
    "\n",
    "rnd = np.random.default_rng()\n",
    "\n",
    "homeruns = np.array([14, 20, 0, 38, 9, 38, 22, 31, 33,\n",
    "                     11, 40, 5, 15, 32, 3, 29, 5, 32])\n",
    "strikeout = np.array([135, 153, 120, 161, 138, 175, 126, 200, 205,\n",
    "                      147, 165, 124, 169, 156, 36, 98, 82, 131])"
   ]
  },
  {
   "cell_type": "code",
   "execution_count": null,
   "id": "f1e6c3dd",
   "metadata": {},
   "outputs": [],
   "source": [
    "# The sum of products approach.\n",
    "actual_sop = np.sum(homeruns * strikeout)\n",
    "\n",
    "n_trials = 10_000\n",
    "results = np.zeros(n_trials)\n",
    "\n",
    "for i in range(n_trials):\n",
    "    shuffled_runs = rnd.permuted(homeruns)\n",
    "    fake_sop = np.sum(shuffled_runs * strikeout)\n",
    "    results[i] = fake_sop\n",
    "\n",
    "plt.hist(results, bins=25)\n",
    "plt.title('Distribution of shuffled sum of products')\n",
    "plt.xlabel('Sum of products for shuffled homeruns')\n",
    "\n",
    "k = np.sum(results >= actual_sop)\n",
    "kk = k / n_trials\n",
    "\n",
    "print('p shuffled sum of products >= actual:', np.round(kk, 3))"
   ]
  },
  {
   "cell_type": "markdown",
   "id": "d8bd8e4b",
   "metadata": {},
   "source": [
    "Interpretation: In 10,000 simulations, random shuffling very rarely\n",
    "produced a value as high as observed. Therefore, we conclude that random\n",
    "chance could not reasonably be responsible for the observed degree of\n",
    "correlation."
   ]
  }
 ],
 "metadata": {
  "jupytext": {
   "cell_metadata_filter": "-all",
   "main_language": "python",
   "notebook_metadata_filter": "-all"
  }
 },
 "nbformat": 4,
 "nbformat_minor": 5
}
