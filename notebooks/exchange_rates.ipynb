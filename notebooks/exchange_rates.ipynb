{
 "cells": [
  {
   "cell_type": "markdown",
   "id": "3c24fe97",
   "metadata": {},
   "source": [
    "# Exchange rates and money supply"
   ]
  },
  {
   "cell_type": "markdown",
   "id": "e1381dfb",
   "metadata": {},
   "source": [
    "Notebook for exercise on exchange rates and money supply."
   ]
  },
  {
   "cell_type": "code",
   "execution_count": null,
   "id": "1b802272",
   "metadata": {},
   "outputs": [],
   "source": [
    "import numpy as np\n",
    "import pandas as pd\n",
    "\n",
    "rnd = np.random.default_rng()\n",
    "\n",
    "exchange_df = pd.read_csv('data/exchange_rates.csv')\n",
    "exchange_rates = np.array(exchange_df['exchange_rate'])\n",
    "money_supply = np.array(exchange_df['money_supply'])"
   ]
  }
 ],
 "metadata": {
  "jupytext": {
   "cell_metadata_filter": "-all",
   "main_language": "python",
   "notebook_metadata_filter": "-all"
  }
 },
 "nbformat": 4,
 "nbformat_minor": 5
}