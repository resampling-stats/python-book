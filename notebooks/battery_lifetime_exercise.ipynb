{
 "cells": [
  {
   "cell_type": "markdown",
   "id": "b4b46f5e",
   "metadata": {},
   "source": [
    "# Battery lifetime exercise"
   ]
  },
  {
   "cell_type": "markdown",
   "id": "06f44b4e",
   "metadata": {},
   "source": [
    "A sample of 20 batteries is tested, and the average lifetime is 28.85\n",
    "months. Establish a 95 percent confidence interval for the true average\n",
    "value. The sample values (lifetimes in months) are listed below."
   ]
  },
  {
   "cell_type": "code",
   "execution_count": null,
   "id": "2d2a6b7c",
   "metadata": {},
   "outputs": [],
   "source": [
    "import numpy as np\n",
    "import matplotlib.pyplot as plt\n",
    "\n",
    "rnd = np.random.default_rng()\n",
    "\n",
    "lifetimes = np.array([30, 32, 31, 28, 31, 29, 29, 24, 30, 31,\n",
    "                      28, 28, 32, 31, 24, 23, 31, 27, 27, 31])\n",
    "\n",
    "print('Mean is:', np.mean(lifetimes))"
   ]
  }
 ],
 "metadata": {
  "jupytext": {
   "cell_metadata_filter": "-all",
   "main_language": "python",
   "notebook_metadata_filter": "-all"
  }
 },
 "nbformat": 4,
 "nbformat_minor": 5
}
