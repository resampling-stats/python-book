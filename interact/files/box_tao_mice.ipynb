{
 "cells": [
  {
   "cell_type": "markdown",
   "id": "9508d9f2",
   "metadata": {},
   "source": [
    "# A problem of black and brown mice"
   ]
  },
  {
   "cell_type": "markdown",
   "id": "c3e56b44",
   "metadata": {},
   "source": [
    "Solve the Box and Tao problem of parental probabilities for black and\n",
    "brown mice. See the text for full explanation."
   ]
  },
  {
   "cell_type": "code",
   "execution_count": null,
   "id": "850365a9",
   "metadata": {},
   "outputs": [],
   "source": [
    "import numpy as np\n",
    "\n",
    "rnd = np.random.default_rng()\n",
    "\n",
    "n_trials = 100_000\n",
    "\n",
    "# Make an array to store results for each trial.\n",
    "# The results are strings, so use dtype=object.\n",
    "# Many of these we will not set, for example, for brown mice (see below).\n",
    "parents = np.zeros(n_trials, dtype=object)\n",
    "\n",
    "for i in range(n_trials):\n",
    "    test_mouse = rnd.choice(['BB', 'Bb', 'bb'], p=[0.25, 0.5, 0.25])\n",
    "\n",
    "    # The test mouse is black; since we drew a brown mouse skip this trial\n",
    "    if test_mouse == 'bb':\n",
    "        # continue has the effect of aborting this iteration of the loop\n",
    "        # and going back to start the next iteration.  If the code gets\n",
    "        # to \"continue\", none of the rest of the loop (indented) code\n",
    "        # will run.\n",
    "        continue\n",
    "\n",
    "    # If the test mouse is 'BB', all 7 children are guaranteed to\n",
    "    # be 'Bb' black.\n",
    "    # Therefore, add 'BB' to the parent list.\n",
    "    if test_mouse == 'BB':\n",
    "        parents[i] = 'BB'\n",
    "\n",
    "    # If the parent mouse is 'Bb', we draw 7 children to\n",
    "    # see whether all of them are black ('Bb').\n",
    "    # The probabilities come from the middle row of the table.\n",
    "    if test_mouse == 'Bb':\n",
    "        children = rnd.choice(['Bb', 'bb'], p=[0.5, 0.5], size=7)\n",
    "        if np.all(children == 'Bb'):\n",
    "            parents[i] = 'Bb'\n",
    "\n",
    "# Now, count how many parents were 'BB' vs 'Bb'\n",
    "n_parents_BB = np.sum(parents == 'BB')\n",
    "n_parents_Bb = np.sum(parents == 'Bb')\n",
    "n_B = n_parents_BB + n_parents_Bb\n",
    "\n",
    "p_BB = n_parents_BB / n_B\n",
    "p_Bb = n_parents_Bb / n_B\n",
    "\n",
    "print('p_BB =', np.round(p_BB, 3))"
   ]
  },
  {
   "cell_type": "code",
   "execution_count": null,
   "id": "930fefeb",
   "metadata": {},
   "outputs": [],
   "source": [
    "print('p_Bb =', np.round(p_Bb, 3))"
   ]
  },
  {
   "cell_type": "code",
   "execution_count": null,
   "id": "f2f3a1cf",
   "metadata": {},
   "outputs": [],
   "source": [
    "print('Ratio =', np.round(p_BB / p_Bb, 1))"
   ]
  },
  {
   "cell_type": "markdown",
   "id": "61b2ad58",
   "metadata": {},
   "source": [
    "We see that all the offspring being black considerably changes the\n",
    "situation! We started with the odds being 2:1 in favor of Bb vs BB. The\n",
    "“posterior” or “after the evidence” ratio is closer to 64:1 in favor of\n",
    "*BB*! (1973, pp. 12-14)\n",
    "\n",
    "Let’s tune the code a bit to run faster. Instead of doing the trials one\n",
    "mouse at a time, we will do the whole bunch together.\n",
    "\n",
    "To do this, we will use two-dimensional arrays.\n",
    "\n",
    "So far, nearly all the arrays we have used are one-dimensional. A\n",
    "one-dimensional array is a sequence of values. Let us generate a\n",
    "one-dimensional array with `rnd.choice`, as we have many times in this\n",
    "book, and in this chapter."
   ]
  },
  {
   "cell_type": "code",
   "execution_count": null,
   "id": "95797f50",
   "metadata": {},
   "outputs": [],
   "source": [
    "# A one-dimensional array, with five elements.\n",
    "one_d = rnd.choice([1, 2], size=5)\n",
    "one_d"
   ]
  },
  {
   "cell_type": "markdown",
   "id": "48783ad0",
   "metadata": {},
   "source": [
    "However, we can also generate arrays with more than one dimension. In\n",
    "particular we can generate arrays with two dimensions. An array with two\n",
    "dimensions has rows and columns, much like a Pandas data frame. However,\n",
    "unlike data frames, two-dimensional arrays have no row or column names.\n",
    "Here is a two-dimensional array we create with `rnd.choice`, by passing\n",
    "two values to the size argument:"
   ]
  },
  {
   "cell_type": "code",
   "execution_count": null,
   "id": "bba69795",
   "metadata": {},
   "outputs": [],
   "source": [
    "# A two-dimensional array with five rows and three columns.\n",
    "two_d = rnd.choice([1, 2], size=(5, 3))\n",
    "two_d"
   ]
  },
  {
   "cell_type": "markdown",
   "id": "a37baf9b",
   "metadata": {},
   "source": [
    "As usual, we can apply Boolean comparison operations to this array, to\n",
    "get a two-dimensional Boolean array:"
   ]
  },
  {
   "cell_type": "code",
   "execution_count": null,
   "id": "426757e1",
   "metadata": {},
   "outputs": [],
   "source": [
    "is_2 = two_d == 2\n",
    "is_2"
   ]
  },
  {
   "cell_type": "markdown",
   "id": "93632659",
   "metadata": {},
   "source": [
    "Numpy thinks of two-dimensional arrays as having two *axes*, where the\n",
    "first axis (axis at position 0) is the row axis, and the second axis (at\n",
    "position 1) is the column axis.\n",
    "\n",
    "Many Numpy functions have an `axis` argument that asks the function to\n",
    "apply its operation along a particular axis. For example, we might want\n",
    "to ask whether `all` the values in *each column* (across axis\n",
    "position 1) are equal to 2. We can do this using `np.all`:"
   ]
  },
  {
   "cell_type": "code",
   "execution_count": null,
   "id": "3401d26f",
   "metadata": {},
   "outputs": [],
   "source": [
    "all_equal_2 = np.all(is_2, axis=1)\n",
    "all_equal_2"
   ]
  },
  {
   "cell_type": "markdown",
   "id": "39b81f12",
   "metadata": {},
   "source": [
    "Notice that we get one answer for each row (axis=0), where the answer is\n",
    "`np.all` across the columns, for that row."
   ]
  },
  {
   "cell_type": "code",
   "execution_count": null,
   "id": "5dc11183",
   "metadata": {},
   "outputs": [],
   "source": [
    "n_trials = 1_000_000\n",
    "\n",
    "# In n_trials trials, pair two Bb mice and generate a child.\n",
    "test_mice = rnd.choice(['BB', 'Bb', 'bb'], p=[0.25, 0.5, 0.25], size=n_trials)\n",
    "\n",
    "# The resulting test mouse is black, so filter out all brown ones.\n",
    "test_mice = test_mice[test_mice != 'bb']\n",
    "n_test_mice = len(test_mice)\n",
    "\n",
    "# Each test mouse will now be mated with a brown mouse, producing 7 offspring.\n",
    "# We then store whether all the offspring were black or not.\n",
    "all_offspring_black = np.zeros(n_test_mice, dtype=bool)\n",
    "\n",
    "# If a test mouse is 'BB', we are assured that all its offspring\n",
    "# will be black.\n",
    "all_offspring_black[test_mice == 'BB'] = True\n",
    "\n",
    "# If a test mouse is 'Bb', we have to generate its offspring and\n",
    "# see whether they are all black or not.\n",
    "test_mice_Bb = (test_mice == 'Bb')\n",
    "n_test_mice_Bb = np.sum(test_mice_Bb)\n",
    "\n",
    "# Generate all offspring of all 'Bb' test mice.\n",
    "# This gives a 2-dimensional array, with one row per Bb mouse,\n",
    "# and 7 columns, one for each child.\n",
    "offspring = rnd.choice(\n",
    "    ['Bb', 'bb'], p=[0.5, 0.5], size=(n_test_mice_Bb, 7)\n",
    ")\n",
    "# Check whether all children (columns) are Bb, for each row.\n",
    "all_offspring_black[test_mice_Bb] = np.all(offspring == 'Bb', axis=1)\n",
    "\n",
    "# Find the genetic types of the parents of all-black offspring.\n",
    "parents = test_mice[all_offspring_black]\n",
    "\n",
    "# Calculate what fraction of parents were 'BB' vs 'Bb'.\n",
    "parents_BB = (parents == 'BB')\n",
    "parents_Bb = (parents == 'Bb')\n",
    "n_B = np.sum(all_offspring_black)\n",
    "\n",
    "p_BB = np.sum(parents_BB) / n_B\n",
    "p_Bb = np.sum(parents_Bb) / n_B\n",
    "\n",
    "print('p_BB = ', np.round(p_BB, 3))"
   ]
  },
  {
   "cell_type": "code",
   "execution_count": null,
   "id": "60543c39",
   "metadata": {},
   "outputs": [],
   "source": [
    "print('p_Bb = ', np.round(p_Bb, 3))"
   ]
  },
  {
   "cell_type": "code",
   "execution_count": null,
   "id": "fd17c358",
   "metadata": {},
   "outputs": [],
   "source": [
    "print('Ratio = ', np.round(p_BB / p_Bb, 1))"
   ]
  },
  {
   "cell_type": "markdown",
   "id": "4c558722",
   "metadata": {},
   "source": [
    "This yields a similar result, but in much shorter time — which means we\n",
    "can increase the number of trials and get a more accurate result."
   ]
  }
 ],
 "metadata": {
  "jupytext": {
   "cell_metadata_filter": "-all",
   "main_language": "python",
   "notebook_metadata_filter": "-all"
  },
  "kernelspec": {
   "display_name": "Python (Pyodide)",
   "name": "python"
  }
 },
 "nbformat": 4,
 "nbformat_minor": 5
}
