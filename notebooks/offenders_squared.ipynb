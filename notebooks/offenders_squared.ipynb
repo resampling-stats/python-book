{
 "cells": [
  {
   "cell_type": "markdown",
   "id": "c1aa8967",
   "metadata": {},
   "source": [
    "# Simulation of offender strategies using squared differences"
   ]
  },
  {
   "cell_type": "markdown",
   "id": "7e98d433",
   "metadata": {},
   "source": [
    "This notebook uses squared differences in a simulation to test the null\n",
    "hypothesis that the four treatments in question were each equally\n",
    "effective.\n",
    "\n",
    "The first step is to examine our data and calculate this measure: The\n",
    "mean is 11, the differences (call *deviations from the mean*) are 6, 1,\n",
    "1, and 4, the squared deviations are 36, 1, 1, and 16, and their sum is\n",
    "54. In Python:"
   ]
  },
  {
   "cell_type": "code",
   "execution_count": null,
   "id": "4c9b5dad",
   "metadata": {},
   "outputs": [],
   "source": [
    "# The actual scores for each treatment.\n",
    "treat_scores = np.array([17, 10, 10, 7])\n",
    "# The mean.\n",
    "m = np.mean(treat_scores)\n",
    "# The four deviations from the mean\n",
    "deviations = treat_scores - m\n",
    "# Squared deviations.\n",
    "sq_deviations = deviations ** 2\n",
    "# Sum of squared deviations.\n",
    "actual_sum_sq_deviations = np.sum(sq_deviations)\n",
    "# Show the result.\n",
    "actual_sum_sq_deviations"
   ]
  },
  {
   "cell_type": "markdown",
   "id": "4cb3b6d3",
   "metadata": {},
   "source": [
    "Our experiment will be, as before, to constitute four groups of 20 at\n",
    "random from a universe with a 55 percent rehabilitation rate. We then\n",
    "calculate this same measure for the random groups. If it is frequently\n",
    "larger than 54, then we conclude that a uniform cure rate of 55 percent\n",
    "could easily have produced the observed results. The program that\n",
    "follows also generates the four treatments by using a `for` loop, rather\n",
    "than spelling out the `rnd.choice` command 4 times as above. In Python:"
   ]
  },
  {
   "cell_type": "code",
   "execution_count": null,
   "id": "b52be447",
   "metadata": {},
   "outputs": [],
   "source": [
    "import numpy as np\n",
    "import matplotlib.pyplot as plt\n",
    "\n",
    "# Set up the random number generator.\n",
    "rnd = np.random.default_rng()\n",
    "\n",
    "# Set the number of trials.\n",
    "n_trials = 10000\n",
    "\n",
    "# Set the sample size for each trial.\n",
    "sample_size = 20\n",
    "\n",
    "# An empty array to store the trials.\n",
    "scores = np.zeros(n_trials)\n",
    "\n",
    "# Do 10000 trials\n",
    "for i in range(n_trials):\n",
    "    # Repeat the following steps 4 times to constitute 4 groups of 20 and\n",
    "    # count their success rates.\n",
    "    group_scores = np.zeros(4)\n",
    "    for group_no in range(4):  # for 0, 1, 2, 3.\n",
    "        # A treatment group\n",
    "        group = rnd.choice(['success', 'failure'], p=[0.55, 0.45], size=20)\n",
    "        # Count successes.\n",
    "        group_count = np.sum(group == 'success')\n",
    "        # Store result\n",
    "        group_scores[group_no] = group_count\n",
    "        # End the procedure for one group of 20, go back and repeat until all 4\n",
    "        # are done.\n",
    "    # Calculate the mean\n",
    "    m = np.mean(group_scores)\n",
    "    # Calculate the deviations of the scores from the mean of the scores.\n",
    "    deviations = group_scores - m\n",
    "    # Square them, making them them positive.\n",
    "    sq_deviations = deviations ** 2\n",
    "    # Sum up the squared deviations.\n",
    "    sum_sq_deviations = np.sum(sq_deviations)\n",
    "    # Keep track of the result for each trial.\n",
    "    scores[i] = sum_sq_deviations\n",
    "\n",
    "    # End a trial, go back and repeat until all 10000 are complete.\n",
    "\n",
    "# Produce a histogram of the trial results.\n",
    "plt.hist(scores, bins=50)\n",
    "plt.title('Distribution of sum of squared deviations, in null universe')"
   ]
  },
  {
   "cell_type": "markdown",
   "id": "cf2c4b15",
   "metadata": {},
   "source": [
    "From this histogram, we see that in only about 1 percent of the cases\n",
    "did our trial sum of squared differences equal or exceed 54, confirming\n",
    "our conclusion that this is an unusual result. We can have Python\n",
    "calculate this proportion:"
   ]
  },
  {
   "cell_type": "code",
   "execution_count": null,
   "id": "9522ddca",
   "metadata": {},
   "outputs": [],
   "source": [
    "# How many of the trials yielded a maximum difference greater than the\n",
    "# observed maximum difference?\n",
    "k = np.sum(scores >= actual_sum_sq_deviations)\n",
    "# Convert to a proportion\n",
    "kk = k / n_trials\n",
    "\n",
    "print('Proportion >=', actual_sum_sq_deviations, 'was:', kk)"
   ]
  },
  {
   "cell_type": "markdown",
   "id": "769b6641",
   "metadata": {},
   "source": [
    "The conventional way to approach this problem would be with what is\n",
    "known as a [chi-squared\n",
    "test](https://en.wikipedia.org/wiki/Chi-squared_test)."
   ]
  }
 ],
 "metadata": {
  "jupytext": {
   "cell_metadata_filter": "-all",
   "main_language": "python",
   "notebook_metadata_filter": "-all"
  }
 },
 "nbformat": 4,
 "nbformat_minor": 5
}
