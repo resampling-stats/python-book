{
 "cells": [
  {
   "cell_type": "markdown",
   "id": "b2599f40",
   "metadata": {},
   "source": [
    "# Exchange rates and money supply"
   ]
  },
  {
   "cell_type": "markdown",
   "id": "ae68b201",
   "metadata": {},
   "source": [
    "Notebook for exercise on exchange rates and money supply."
   ]
  },
  {
   "cell_type": "code",
   "execution_count": null,
   "id": "e739e20a",
   "metadata": {},
   "outputs": [],
   "source": [
    "import numpy as np\n",
    "import pandas as pd\n",
    "\n",
    "rnd = np.random.default_rng()\n",
    "\n",
    "exchange_df = pd.read_csv('data/exchange_rates.csv')\n",
    "exchange_rates = np.array(exchange_df['exchange_rate'])\n",
    "money_supply = np.array(exchange_df['money_supply'])"
   ]
  }
 ],
 "metadata": {
  "jupytext": {
   "cell_metadata_filter": "-all",
   "main_language": "python",
   "notebook_metadata_filter": "-all"
  },
  "kernelspec": {
   "display_name": "Python (Pyodide)",
   "name": "python"
  }
 },
 "nbformat": 4,
 "nbformat_minor": 5
}
