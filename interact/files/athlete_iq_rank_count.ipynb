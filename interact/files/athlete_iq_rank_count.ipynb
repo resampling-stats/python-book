{
 "cells": [
  {
   "cell_type": "markdown",
   "id": "2ce05618",
   "metadata": {},
   "source": [
    "# Athletic ability and IQ using rank counts"
   ]
  },
  {
   "cell_type": "markdown",
   "id": "9134e389",
   "metadata": {},
   "source": [
    "Continuing with the question: **Is there correlation between two\n",
    "variables or are they independent?**\n",
    "\n",
    "This approach differs from the previous notebook in this series, in\n",
    "looking only at the top 5 permuted I.Q. ranks. Now read on.\n",
    "\n",
    "In the Python code below, we first note that the top 5 athletes had 4 of\n",
    "the top 5 I.Q. scores. So we constitute the set of 10 IQ rankings array\n",
    "`iq_ranks`. We then shuffle `iq_ranks` and select the first 5 I.Q.\n",
    "rankings (out of 10). We count (`sum`) how many are in the top 5, and\n",
    "keep track of the result. After repeating 10,000 times using a `for`\n",
    "loop, we find out how often we select 4 of the top 5."
   ]
  },
  {
   "cell_type": "code",
   "execution_count": null,
   "id": "9dc8c9d8",
   "metadata": {},
   "outputs": [],
   "source": [
    "import numpy as np\n",
    "import matplotlib.pyplot as plt\n",
    "\n",
    "rnd = np.random.default_rng()\n",
    "\n",
    "# Number of repeats.\n",
    "n_trials = 10000\n",
    "# The IQ ranks, ready for shuffling.\n",
    "iq_ranks = np.arange(1, 11)  # 1 through 10.\n",
    "# Scorekeeping array.\n",
    "results = np.zeros(n_trials)\n",
    "\n",
    "for i in range(n_trials):\n",
    "    # Shuffle the ranks.\n",
    "    shuffled = rnd.permuted(iq_ranks)\n",
    "    # Take the first 5 ranks.\n",
    "    top_5 = shuffled[:5]\n",
    "    # Everything up until this point is the same as the code above.\n",
    "    # Here is the difference.\n",
    "    # Check whether the selected IQ ranks are in the top 5.\n",
    "    are_top = top_5 <= 5\n",
    "    # Count how many were in the top 5\n",
    "    n_are_top = np.sum(are_top)\n",
    "    # Keep track of the result of each trial.\n",
    "    results[i] = n_are_top\n",
    "    # End the experiment, go back and repeat.\n",
    "\n",
    "# Determine how many trials produced 4 or more top ranks by chance.\n",
    "k = np.sum(results >= 4)\n",
    "#  Convert to a proportion.\n",
    "kk = k / n_trials\n",
    "# Show the result.\n",
    "kk"
   ]
  }
 ],
 "metadata": {
  "jupytext": {
   "cell_metadata_filter": "-all",
   "main_language": "python",
   "notebook_metadata_filter": "-all"
  },
  "kernelspec": {
   "display_name": "Python (Pyodide)",
   "name": "python"
  }
 },
 "nbformat": 4,
 "nbformat_minor": 5
}
