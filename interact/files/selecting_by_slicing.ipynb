{
 "cells": [
  {
   "cell_type": "markdown",
   "id": "b16c5954",
   "metadata": {},
   "source": [
    "# Selecting elements by slicing"
   ]
  },
  {
   "cell_type": "markdown",
   "id": "5e633e9c",
   "metadata": {},
   "source": [
    "As you saw in <a href=\"#sec-array-indexing\" class=\"quarto-xref\"><span\n",
    "class=\"quarto-unresolved-ref\">sec-array-indexing</span></a>, we do\n",
    "*indexing* when we put square brackets following a value that is a\n",
    "container, such as an array. Inside the square brackets we put another\n",
    "value to specify which elements we want to fetch from the container.\n",
    "\n",
    "We will use the `some_numbers` array as our container for indexing:"
   ]
  },
  {
   "cell_type": "code",
   "execution_count": null,
   "id": "ece002ff",
   "metadata": {},
   "outputs": [],
   "source": [
    "import numpy as np\n",
    "\n",
    "some_numbers = np.array([3, 1, 4, 1, 5, 9, 2, 6])"
   ]
  },
  {
   "cell_type": "markdown",
   "id": "6d1848b6",
   "metadata": {},
   "source": [
    "In the indexing expression below, we have the array `some_numbers`,\n",
    "followed by the value `3` inside the square brackets, telling Python\n",
    "that we want the fourth value from the `some_numbers` container."
   ]
  },
  {
   "cell_type": "code",
   "execution_count": null,
   "id": "8de9a070",
   "metadata": {},
   "outputs": [],
   "source": [
    "# Indexing with an integer inside the square brackets.\n",
    "some_numbers[3]"
   ]
  },
  {
   "cell_type": "markdown",
   "id": "a7271864",
   "metadata": {},
   "source": [
    "In the example above, we put an integer (a whole number) inside the\n",
    "square brackets, to specify the position of the element we want to fetch\n",
    "from the container.\n",
    "\n",
    "We can also put something called a *slice* inside the square brackets.\n",
    "\n",
    "A slice specifies a *range* of elements to fetch from the container.\n",
    "\n",
    "We can form a *slice* with an integer, followed by a colon (`:`),\n",
    "followed by another integer. The first integer specifies the *start*\n",
    "position; this is the position of the first element we want. There\n",
    "follows a colon. Read the colon as “up to, but not including”. Finally,\n",
    "we have an integer that gives the *stop* position. The slice, thus\n",
    "specified, asks Python to give us all the elements from (including) the\n",
    "*start* position, up to, *but not including* the *stop* position.\n",
    "\n",
    "For example, here we index with a slice having *start* of 1 (offset 1\n",
    "from the start, the position of the second element). The *stop* is 5,\n",
    "meaning we should go up to, but not include the element at position 5\n",
    "(the sixth element). The result is another array, that has the elements\n",
    "of `some_numbers` from positions 1 through 4:"
   ]
  },
  {
   "cell_type": "code",
   "execution_count": null,
   "id": "764554a8",
   "metadata": {},
   "outputs": [],
   "source": [
    "# Indexing with a slice (an expression including a colon).\n",
    "some_numbers[1:5]"
   ]
  },
  {
   "cell_type": "markdown",
   "id": "d6af7a14",
   "metadata": {},
   "source": [
    "In fact, we can omit the value before the colon (the *start* value), and\n",
    "Python will assume we mean 0. This indexing expression fetches the\n",
    "elements at position 0 through 3:"
   ]
  },
  {
   "cell_type": "code",
   "execution_count": null,
   "id": "d5fcc3a4",
   "metadata": {},
   "outputs": [],
   "source": [
    "# Indexing with a slice that omits the first (start) value.  Python assumes 0.\n",
    "some_numbers[:4]"
   ]
  },
  {
   "cell_type": "markdown",
   "id": "e6af27fb",
   "metadata": {},
   "source": [
    "The expression above then means “get all the elements up to (not\n",
    "including) position 4”, or equivalently, “get the first four elements of\n",
    "the array”.\n",
    "\n",
    "We can also omit the stop value. Python assumes we mean one past the\n",
    "last position in the array. This is also the `len` of the array. By\n",
    "taking this stop value, the slice selects the elements starting at the\n",
    "*start* element, through to (including) the last element of the array:"
   ]
  },
  {
   "cell_type": "code",
   "execution_count": null,
   "id": "21682438",
   "metadata": {},
   "outputs": [],
   "source": [
    "# Indexing with a slice that omits the last (stop) value.  Python assumes\n",
    "# we mean one past the last position in the array.\n",
    "some_numbers[3:]"
   ]
  },
  {
   "cell_type": "markdown",
   "id": "ca010f48",
   "metadata": {},
   "source": [
    "The slice in the example above therefore means “get all the elements\n",
    "from position 3 to the end of the array”.\n",
    "\n",
    "Actually, we can even omit the start *and* the stop values, leaving just\n",
    "the colon. As you might expect, Python assumes 0 as the start, and one\n",
    "past the end as the stop, so the colon on its own means “return all the\n",
    "elements in the array”. As usual with slicing, we get a new array with\n",
    "the chosen elements."
   ]
  },
  {
   "cell_type": "code",
   "execution_count": null,
   "id": "a8e2e0cb",
   "metadata": {
    "lines_to_next_cell": 0
   },
   "outputs": [],
   "source": [
    "# Just the colun, meaning \"all the elements in the array\".\n",
    "some_numbers[:]"
   ]
  },
  {
   "cell_type": "markdown",
   "id": "cebd6b43",
   "metadata": {},
   "source": [
    "\n"
   ]
  }
 ],
 "metadata": {
  "jupytext": {
   "cell_metadata_filter": "-all",
   "main_language": "python",
   "notebook_metadata_filter": "-all"
  },
  "kernelspec": {
   "display_name": "Python (Pyodide)",
   "name": "python"
  }
 },
 "nbformat": 4,
 "nbformat_minor": 5
}
