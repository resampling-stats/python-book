{
 "cells": [
  {
   "cell_type": "markdown",
   "id": "1947bcdc",
   "metadata": {},
   "source": [
    "# Voter participation in 1844 election"
   ]
  },
  {
   "cell_type": "markdown",
   "id": "01d9de74",
   "metadata": {},
   "source": [
    "Notebook for voter participation exercise."
   ]
  },
  {
   "cell_type": "code",
   "execution_count": null,
   "id": "802ffcf8",
   "metadata": {},
   "outputs": [],
   "source": [
    "import numpy as np\n",
    "import pandas as pd\n",
    "\n",
    "rnd = np.random.default_rng()\n",
    "\n",
    "voter_df = pd.read_csv('data/election_1844.csv')\n",
    "participation = np.array(voter_df['Participation'])\n",
    "spread = np.array(voter_df['Spread'])"
   ]
  }
 ],
 "metadata": {
  "jupytext": {
   "cell_metadata_filter": "-all",
   "main_language": "python",
   "notebook_metadata_filter": "-all"
  },
  "kernelspec": {
   "display_name": "Python (Pyodide)",
   "name": "python"
  }
 },
 "nbformat": 4,
 "nbformat_minor": 5
}
