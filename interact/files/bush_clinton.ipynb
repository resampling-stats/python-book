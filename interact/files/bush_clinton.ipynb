{
 "cells": [
  {
   "cell_type": "markdown",
   "id": "708850bd",
   "metadata": {},
   "source": [
    "# Simulation of Bush / Clinton polling"
   ]
  },
  {
   "cell_type": "markdown",
   "id": "8c4c1f92",
   "metadata": {},
   "source": [
    "The notebook estimates the chances that Bush is in fact equal or behind\n",
    "in the population of eventual voters, despite the poll giving him a\n",
    "narrow lead."
   ]
  },
  {
   "cell_type": "code",
   "execution_count": null,
   "id": "815007c1",
   "metadata": {},
   "outputs": [],
   "source": [
    "import numpy as np\n",
    "import matplotlib.pyplot as plt\n",
    "\n",
    "# set up the random number generator\n",
    "rnd = np.random.default_rng()\n",
    "\n",
    "# Set the number of trials.\n",
    "n_trials = 10000\n",
    "\n",
    "# Number of voters who expressed a preference.\n",
    "n_voters = 705\n",
    "\n",
    "# Benchmark proportions.\n",
    "bench_ps = [0.35, 0.35, 0.30]\n",
    "\n",
    "# An empty array to store the trials.\n",
    "scores = np.zeros(n_trials)\n",
    "\n",
    "# Do 10000 trials\n",
    "for i in range(n_trials):\n",
    "    # Take a sample of 705 votes, with replacement.\n",
    "    samp = rnd.choice(['Bush', 'Perot', 'Clinton'],\n",
    "                      p=bench_ps,\n",
    "                      size=n_voters)\n",
    "    # Count the Bush voters, etc.\n",
    "    n_bush = np.sum(samp == 'Bush')\n",
    "    n_perot = np.sum(samp == 'Perot')\n",
    "    n_clinton = np.sum(samp == 'Clinton')\n",
    "    # Join Perot & Clinton votes in an array.\n",
    "    others = np.array([n_perot, n_clinton])\n",
    "    # Find the larger of the other two.\n",
    "    n_second = np.max(others)\n",
    "    # Find Bush's margin over 2nd.\n",
    "    lead = n_bush - n_second\n",
    "    # Convert vote difference to percent lead.\n",
    "    pct_lead = lead / n_voters * 100\n",
    "    # Store the result.\n",
    "    scores[i] = pct_lead\n",
    "\n",
    "plt.hist(scores, bins=50)\n",
    "plt.title('Distribution of Bush margin over second candidate')\n",
    "\n",
    "# Compare to the observed margin in the sample of 705 corresponding to a 6.4\n",
    "# percent margin by Bush over 2nd place finisher.\n",
    "k = np.sum(scores >= 6.4)\n",
    "kk = k / n_trials\n",
    "\n",
    "print('Proportion of trials where Bush margin >= 6.4%:', kk)"
   ]
  }
 ],
 "metadata": {
  "jupytext": {
   "cell_metadata_filter": "-all",
   "main_language": "python",
   "notebook_metadata_filter": "-all"
  },
  "kernelspec": {
   "display_name": "Python (Pyodide)",
   "name": "python"
  }
 },
 "nbformat": 4,
 "nbformat_minor": 5
}
