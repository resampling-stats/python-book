{
 "cells": [
  {
   "cell_type": "markdown",
   "id": "b70828cb",
   "metadata": {},
   "source": [
    "# Bayesian analysis of cars and mechanics"
   ]
  },
  {
   "cell_type": "markdown",
   "id": "5d36f22c",
   "metadata": {},
   "source": [
    "We wish to know the probability that if the mechanic *says* a car is\n",
    "“OK,” it *really* is faulty. Phrased differently, what is the\n",
    "probability of a car being faulty if the mechanic said it was OK?"
   ]
  },
  {
   "cell_type": "code",
   "execution_count": null,
   "id": "d82b9b8c",
   "metadata": {},
   "outputs": [],
   "source": [
    "import numpy as np\n",
    "\n",
    "# Set up the random number generator.\n",
    "rnd = np.random.default_rng()\n",
    "\n",
    "n_trials = 10000  # number of cars\n",
    "\n",
    "# Counters for number of approved, number of approved and faulty\n",
    "approved = 0\n",
    "approved_and_faulty = 0\n",
    "\n",
    "for i in range(n_trials):\n",
    "\n",
    "    # Decide whether the car is faulty or working, with a probability of\n",
    "    # 0.3 and 0.7 respectively\n",
    "    car = rnd.choice(['faulty', 'working'], p=[0.3, 0.7])\n",
    "\n",
    "    if car == 'faulty':\n",
    "        # What the mechanic says of a faulty car\n",
    "        mechanic_says = rnd.choice(['approved', 'not approved'], p=[0.1, 0.9])\n",
    "    else:\n",
    "        # What the mechanic says of a working car\n",
    "        mechanic_says = rnd.choice(['approved', 'not approved'], p=[0.7, 0.3])\n",
    "\n",
    "    if mechanic_says == 'approved':\n",
    "        approved += 1\n",
    "\n",
    "        if car == 'faulty':\n",
    "            approved_and_faulty += 1\n",
    "\n",
    "k = approved_and_faulty / approved\n",
    "\n",
    "print('Proportion of faulty cars of cars approved:', np.round(k, 2))"
   ]
  },
  {
   "cell_type": "markdown",
   "id": "dce67b1a",
   "metadata": {},
   "source": [
    "The answer looks to be somewhere between 5 and 6%. The code clearly\n",
    "follows the description step by step, but it is also quite slow. If we\n",
    "can improve the code, we may be able to do our simulation with more\n",
    "cars, and get a more accurate answer.\n",
    "\n",
    "Let’s use arrays to store the states of all cars in the lot\n",
    "simultaneously:"
   ]
  },
  {
   "cell_type": "code",
   "execution_count": null,
   "id": "48863c2e",
   "metadata": {},
   "outputs": [],
   "source": [
    "# Number of cars; we made this number larger by a factor of 100\n",
    "n_trials = 1_000_000\n",
    "\n",
    "# Generate an array with as many entries as there are cars, each\n",
    "# being either 'working' or 'faulty'\n",
    "cars = rnd.choice(['working', 'faulty'], p=[0.7, 0.3], size=n_trials)\n",
    "\n",
    "# Count how many cars are working\n",
    "n_working = np.sum(cars == 'working')\n",
    "\n",
    "# All the rest are faulty\n",
    "n_faulty = n_trials - n_working\n",
    "\n",
    "# Create a new array in which to store what a mechanic says\n",
    "# about the car: 'approved' or 'not approved'. Use\n",
    "# dtype=object because we need to store strings.\n",
    "mechanic_says = np.zeros(n_trials, dtype=object)\n",
    "\n",
    "# We start with the working cars; what does the mechanic say about them?\n",
    "# Generate 'approved' or 'not approved' labels with the given probabilities.\n",
    "mechanic_says[cars == 'working'] = rnd.choice(\n",
    "    ['approved', 'not approved'], p=[0.8, 0.2], size=n_working\n",
    ")\n",
    "\n",
    "# Similarly, for each faulty car, generate 'approved'/'not approved'\n",
    "# labels with the given probabilities.\n",
    "mechanic_says[cars == 'faulty'] = rnd.choice(\n",
    "    ['approved', 'not approved'], p=[0.1, 0.9], size=n_faulty\n",
    ")\n",
    "\n",
    "# Identify all cars that were approved\n",
    "# This produces a binary mask, an array that looks like:\n",
    "# [True, False, False, True, ... ]\n",
    "approved = (mechanic_says == 'approved')\n",
    "\n",
    "# Identify cars that are faulty AND were approved\n",
    "faulty_but_approved = (cars == 'faulty') & approved\n",
    "\n",
    "# Count the number of cars that are faulty but approved, as well as\n",
    "# the total number of cars that were approved\n",
    "n_faulty_but_approved = np.sum(faulty_but_approved)\n",
    "n_approved = np.sum(approved)\n",
    "\n",
    "# Calculate the ratio, which is the answer we seek\n",
    "k = n_faulty_but_approved / n_approved\n",
    "\n",
    "print('Proportion of faulty cars of cars approved:', np.round(k, 2))"
   ]
  },
  {
   "cell_type": "markdown",
   "id": "2ce2c193",
   "metadata": {},
   "source": [
    "The code now runs much faster, and with a larger number of cars we see\n",
    "that the answer is closer to a 5% chance of a car being broken after it\n",
    "has been approved by a mechanic."
   ]
  }
 ],
 "metadata": {
  "jupytext": {
   "cell_metadata_filter": "-all",
   "main_language": "python",
   "notebook_metadata_filter": "-all"
  },
  "kernelspec": {
   "display_name": "Python (Pyodide)",
   "name": "python"
  }
 },
 "nbformat": 4,
 "nbformat_minor": 5
}
