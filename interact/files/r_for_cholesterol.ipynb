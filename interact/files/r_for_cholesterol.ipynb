{
 "cells": [
  {
   "cell_type": "markdown",
   "id": "cd45d605",
   "metadata": {},
   "source": [
    "# Correlation coefficient for compliance and cholesterol"
   ]
  },
  {
   "cell_type": "markdown",
   "id": "4ce9a775",
   "metadata": {},
   "source": [
    "Calculate correlation coefficient for compliance and cholesterol."
   ]
  },
  {
   "cell_type": "code",
   "execution_count": null,
   "id": "6287eff9",
   "metadata": {},
   "outputs": [],
   "source": [
    "import numpy as np\n",
    "import pandas as pd\n",
    "\n",
    "df = pd.read_csv('data/cholost.csv')\n",
    "compliance = np.array(df['percent_compliance'])\n",
    "cholesterol = np.array(df['cholesterol_decrease'])\n",
    "\n",
    "# Compliance as standard scores.\n",
    "dev_compliance = compliance - np.mean(compliance)  # Deviations.\n",
    "stdev_compliance = np.sqrt(np.mean(dev_compliance ** 2))  # Standard deviation.\n",
    "# We could also have used np.std to do the calculation above.\n",
    "std_compliance = dev_compliance / stdev_compliance  # Standard scores.\n",
    "\n",
    "# Cholesterol as standard scores.\n",
    "dev_cholesterol = cholesterol - np.mean(cholesterol)  # Deviations.\n",
    "stdev_cholesterol = np.sqrt(np.mean(dev_cholesterol ** 2))  # Standard deviation.\n",
    "# We could also have used np.std to do the calculation above.\n",
    "std_cholesterol = dev_cholesterol / stdev_cholesterol  # Standard scores.\n",
    "\n",
    "# r value is mean of products for standardized scores.\n",
    "r = np.mean(std_compliance * std_cholesterol)\n",
    "\n",
    "print('r for compliance / cholesterol is:', np.round(r, 2))"
   ]
  }
 ],
 "metadata": {
  "jupytext": {
   "cell_metadata_filter": "-all",
   "main_language": "python",
   "notebook_metadata_filter": "-all"
  },
  "kernelspec": {
   "display_name": "Python (Pyodide)",
   "name": "python"
  }
 },
 "nbformat": 4,
 "nbformat_minor": 5
}
