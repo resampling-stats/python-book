{
 "cells": [
  {
   "cell_type": "markdown",
   "id": "4fb6cdd8",
   "metadata": {},
   "source": [
    "# Bayesian analysis for insurance premium"
   ]
  },
  {
   "cell_type": "markdown",
   "id": "dbff146c",
   "metadata": {},
   "source": [
    "A mutual insurance company charges its members according to the risk of\n",
    "having an car accident. It is known that there are two classes of people\n",
    "— 80 percent of the population with good driving judgment and with a\n",
    "probability of .06 of having an accident each year, and 20 percent with\n",
    "poor judgment and a probability of .6 of having an accident each year.\n",
    "The company’s policy is to charge \\$100 for each percent of risk, i. e.,\n",
    "a driver with a probability of .6 should pay 60\\*\\$100 = \\$6000.\n",
    "\n",
    "If nothing is known of a driver except that they had an accident last\n",
    "year, what fee should they pay?\n",
    "\n",
    "Another way to phrase this question is: given that a driver had an\n",
    "accident last year, what is the probability of them having an accident\n",
    "overall?\n",
    "\n",
    "We will proceed as follows:\n",
    "\n",
    "1.  Generate a population of N people. Label each as `good driver` or\n",
    "    `poor driver`.\n",
    "2.  Simulate the last year for each person: did they have an accident or\n",
    "    not?\n",
    "3.  Select only the ones that had an accident last year.\n",
    "4.  Among those, calculate what their average risk is of making an\n",
    "    accident. This will indicate the appropriate insurance premium."
   ]
  },
  {
   "cell_type": "code",
   "execution_count": null,
   "id": "c4b6d7c9",
   "metadata": {},
   "outputs": [],
   "source": [
    "import numpy as np\n",
    "\n",
    "rnd = np.random.default_rng()\n",
    "\n",
    "n_trials = 100_000\n",
    "cost_per_percent = 100\n",
    "\n",
    "people = rnd.choice(\n",
    "    ['good driver', 'poor driver'], p=[0.8, 0.2],\n",
    "    size=n_trials\n",
    ")\n",
    "\n",
    "good_driver = (people == 'good driver')\n",
    "poor_driver = ~good_driver\n",
    "\n",
    "# Did they have an accident last year?\n",
    "had_accident = np.zeros(n_trials, dtype=bool)\n",
    "had_accident[good_driver] = rnd.choice(\n",
    "    [True, False], p=[0.06, 0.94],\n",
    "    size=np.sum(good_driver)\n",
    ")\n",
    "had_accident[poor_driver] = rnd.choice(\n",
    "    [True, False], p=[0.6, 0.4],\n",
    "    size=np.sum(poor_driver)\n",
    ")\n",
    "\n",
    "ppl_with_accidents = people[had_accident]\n",
    "n_good_driver_accidents = np.sum(ppl_with_accidents == 'good driver')\n",
    "n_poor_driver_accidents = np.sum(ppl_with_accidents == 'poor driver')\n",
    "n_all_with_accidents = n_good_driver_accidents + n_poor_driver_accidents\n",
    "\n",
    "avg_risk_percent = ((n_good_driver_accidents * 0.06 +\n",
    "                     n_poor_driver_accidents * 0.6) /\n",
    "                    n_all_with_accidents * 100)\n",
    "\n",
    "premium = avg_risk_percent * cost_per_percent\n",
    "\n",
    "print('Premium is:', np.round(premium))"
   ]
  },
  {
   "cell_type": "markdown",
   "id": "5924e08d",
   "metadata": {},
   "source": [
    "The answer should be around 4450 USD."
   ]
  }
 ],
 "metadata": {
  "jupytext": {
   "cell_metadata_filter": "-all",
   "main_language": "python",
   "notebook_metadata_filter": "-all"
  },
  "kernelspec": {
   "display_name": "Python (Pyodide)",
   "name": "python"
  }
 },
 "nbformat": 4,
 "nbformat_minor": 5
}
