{
 "cells": [
  {
   "cell_type": "markdown",
   "id": "2c712d7c",
   "metadata": {},
   "source": [
    "# Logical operators"
   ]
  },
  {
   "cell_type": "markdown",
   "id": "5a94065b",
   "metadata": {},
   "source": [
    "This section continues our programme of expanding the range of Python\n",
    "features that you can use to clear code. As we introduce each feature,\n",
    "we will use them in the following examples.\n",
    "\n",
    "As motivation, we are about to do some simulations where we are\n",
    "interested in the number of some particular type of observations in each\n",
    "trial. For example, let’s do 10 coin tosses with `rnd.choice`:"
   ]
  },
  {
   "cell_type": "code",
   "execution_count": null,
   "id": "60c44ade",
   "metadata": {},
   "outputs": [],
   "source": [
    "import numpy as np\n",
    "rnd = np.random.default_rng()"
   ]
  },
  {
   "cell_type": "code",
   "execution_count": null,
   "id": "4e50ee62",
   "metadata": {},
   "outputs": [],
   "source": [
    "# For each element, heads of tails is equally likely.\n",
    "coins = rnd.choice(['heads', 'tails'], size=10)\n",
    "coins"
   ]
  },
  {
   "cell_type": "markdown",
   "id": "35af8b47",
   "metadata": {},
   "source": [
    "Let us now say that we are interested to record if the trial had\n",
    "*either* 2 or fewer “heads” *or* two or fewer “tails”.\n",
    "\n",
    "We could write it like this:"
   ]
  },
  {
   "cell_type": "code",
   "execution_count": null,
   "id": "20d8ac1e",
   "metadata": {},
   "outputs": [],
   "source": [
    "if np.sum(coins == 'heads') <= 2:\n",
    "    print('Trial is of interest')"
   ]
  },
  {
   "cell_type": "code",
   "execution_count": null,
   "id": "348af677",
   "metadata": {},
   "outputs": [],
   "source": [
    "if np.sum(coins == 'tails') <= 2:\n",
    "    print('Trial is of interest')"
   ]
  },
  {
   "cell_type": "markdown",
   "id": "eba5335a",
   "metadata": {},
   "source": [
    "It is a little repetitive to have to repeat the code identical code to\n",
    "print the same message for either of the two cases, and it would be even\n",
    "more repetitive if there were more lines of identical code to run for\n",
    "each of the two cases.\n",
    "\n",
    "Python solves this problem with the `or` operator, like this:"
   ]
  },
  {
   "cell_type": "code",
   "execution_count": null,
   "id": "4ff659be",
   "metadata": {},
   "outputs": [],
   "source": [
    "if np.sum(coins == 'heads') <= 2 or np.sum(coins == 'tails') <= 2:\n",
    "    print('Trial is of interest')"
   ]
  },
  {
   "cell_type": "markdown",
   "id": "c91e2480",
   "metadata": {},
   "source": [
    "**Note: Note 23.1: What is an operator?**\n",
    "\n",
    "Above, we called `or` an *operator*. An operator, for our purposes, is a\n",
    "special character , or a word, that sits between two values, and that\n",
    "tells Python how to combine these values.\n",
    "\n",
    "For example `+` is an operator. When `+` sits between two numbers in\n",
    "code, Python interprets this to mean “take the two numbers on either\n",
    "side, and make a new number that is the result of adding the two\n",
    "numbers”:"
   ]
  },
  {
   "cell_type": "code",
   "execution_count": null,
   "id": "1241dc2d",
   "metadata": {},
   "outputs": [],
   "source": [
    "# + is an operator that, between two numbers, means \"add the numbers\".\n",
    "1 + 3"
   ]
  },
  {
   "cell_type": "markdown",
   "id": "612e8ef4",
   "metadata": {},
   "source": [
    "`+`, `-`, `/` and `*` are all examples of operators that do *arithmetic*\n",
    "on the numbers to either side — they are *arithmetic* operators."
   ]
  },
  {
   "cell_type": "code",
   "execution_count": null,
   "id": "66e7371c",
   "metadata": {},
   "outputs": [],
   "source": [
    "# * is an operator that, between two numbers, means \"multiply the numbers\".\n",
    "2 * 4"
   ]
  },
  {
   "cell_type": "markdown",
   "id": "7044deee",
   "metadata": {},
   "source": [
    "**End of note**\n"
   ]
  },
  {
   "cell_type": "markdown",
   "id": "e115b4d8",
   "metadata": {},
   "source": [
    "We are about to use the operator `or`. `or` is a *logical* operator. It\n",
    "is a logical operator because it does not operate on *numbers* (as\n",
    "arithmetic operators do), but on *logical* (*Boolean*) values — values\n",
    "that can be either `True` or `False`.\n",
    "\n",
    "For example, here we use `or`. to combine a `True` value (on the left)\n",
    "with a `False` value (on the right). It gives a result — `True`."
   ]
  },
  {
   "cell_type": "code",
   "execution_count": null,
   "id": "133dc564",
   "metadata": {},
   "outputs": [],
   "source": [
    "True or False"
   ]
  },
  {
   "cell_type": "markdown",
   "id": "29505011",
   "metadata": {},
   "source": [
    "`or` applies a very simple rule: if *either* the left-hand (LH) *or* the\n",
    "right-hand (RH) values are `True`, then `or` evaluates to `True`. Only\n",
    "if *neither* of the LH and RH values are `True`, does it return `False`."
   ]
  },
  {
   "cell_type": "code",
   "execution_count": null,
   "id": "ace136d4",
   "metadata": {},
   "outputs": [],
   "source": [
    "# Both LH and RH are True, return True.\n",
    "print('True or True result:', True or True)"
   ]
  },
  {
   "cell_type": "code",
   "execution_count": null,
   "id": "0b33cde8",
   "metadata": {},
   "outputs": [],
   "source": [
    "# Only LH is True, return True.\n",
    "print('True or False result:', True or False)"
   ]
  },
  {
   "cell_type": "code",
   "execution_count": null,
   "id": "7131df74",
   "metadata": {},
   "outputs": [],
   "source": [
    "# Only RH is True, return True.\n",
    "print('False or True result:', False or True)"
   ]
  },
  {
   "cell_type": "code",
   "execution_count": null,
   "id": "96a3e3e9",
   "metadata": {},
   "outputs": [],
   "source": [
    "# Neither LH nor RH are True, return False.\n",
    "print('False or False result:', False or False)"
   ]
  },
  {
   "cell_type": "markdown",
   "id": "29278915",
   "metadata": {},
   "source": [
    "Now let’s go back to the `if` statement above. The conditional part of\n",
    "the header line is:"
   ]
  },
  {
   "cell_type": "code",
   "execution_count": null,
   "id": "858b0473",
   "metadata": {},
   "outputs": [],
   "source": [
    "np.sum(coins == 'heads') <= 2 or np.sum(coins == 'tails') <= 2"
   ]
  },
  {
   "cell_type": "markdown",
   "id": "cddd8e2f",
   "metadata": {},
   "source": [
    "This will be `True` *either* when there there are two or fewer “heads”,\n",
    "*or* when there are two or fewer tails. Therefore, when we use this\n",
    "conditional in an `if` statement, we make the *body* of the `if`\n",
    "statement run only if either of the two conditions are `True`."
   ]
  },
  {
   "cell_type": "code",
   "execution_count": null,
   "id": "aae221d6",
   "metadata": {},
   "outputs": [],
   "source": [
    "if np.sum(coins == 'heads') <= 2 or np.sum(coins == 'tails') <= 2:\n",
    "    print('Trial is of interest')"
   ]
  },
  {
   "cell_type": "markdown",
   "id": "8b80743b",
   "metadata": {},
   "source": [
    "While we are here, Python has another very useful logical operator:\n",
    "`and`.\n",
    "\n",
    "`and` takes the LH and RH values, and returns `True` only if *both*\n",
    "values are `True`."
   ]
  },
  {
   "cell_type": "code",
   "execution_count": null,
   "id": "c47938cf",
   "metadata": {},
   "outputs": [],
   "source": [
    "# Both LH and RH are True, return True.\n",
    "print('True and True result:', True and True)"
   ]
  },
  {
   "cell_type": "code",
   "execution_count": null,
   "id": "dc109f9c",
   "metadata": {},
   "outputs": [],
   "source": [
    "# Only LH is True, return False.\n",
    "print('True and False result:', True and False)"
   ]
  },
  {
   "cell_type": "code",
   "execution_count": null,
   "id": "b050c600",
   "metadata": {},
   "outputs": [],
   "source": [
    "# Only RH is True, return False.\n",
    "print('False and True result:', False and True)"
   ]
  },
  {
   "cell_type": "code",
   "execution_count": null,
   "id": "51261a34",
   "metadata": {},
   "outputs": [],
   "source": [
    "# Neither LH nor RH are True, return False.\n",
    "print('False and False result:', False and False)"
   ]
  },
  {
   "cell_type": "markdown",
   "id": "815baaf9",
   "metadata": {},
   "source": [
    "We could, for example, ask whether the number of heads is \\>=3 *and*\n",
    "\\<=7 (is in the range 3 through 7)."
   ]
  },
  {
   "cell_type": "code",
   "execution_count": null,
   "id": "717c68e0",
   "metadata": {},
   "outputs": [],
   "source": [
    "if np.sum(coins == 'heads') >= 3 and np.sum(coins == 'heads') <= 7:\n",
    "    print('Trial is of interest')"
   ]
  },
  {
   "cell_type": "markdown",
   "id": "f5207df8",
   "metadata": {},
   "source": [
    "**Note: Python interval comparison**\n",
    "\n",
    "In fact, Python has a special shortcut syntax called *interval\n",
    "comparison* for that last question — whether a number is within a range.\n",
    "It looks like this:"
   ]
  },
  {
   "cell_type": "code",
   "execution_count": null,
   "id": "a430ce12",
   "metadata": {},
   "outputs": [],
   "source": [
    "# Asks whether thee number of heads is >= 3 *and* <= 7.\n",
    "3 <= np.sum(coins == 'heads') <= 7"
   ]
  },
  {
   "cell_type": "markdown",
   "id": "10a2568e",
   "metadata": {},
   "source": [
    "Notice the value at one end of the range the left (here, the lower\n",
    "value), then the comparison operator, then the value to compare, then\n",
    "another comparison operator, followed by the value at the other end of\n",
    "the range on the right.\n",
    "\n",
    "The interval comparison above is a shortcut for the more verbose version\n",
    "we would need when using `and`:"
   ]
  },
  {
   "cell_type": "code",
   "execution_count": null,
   "id": "c60b25ab",
   "metadata": {},
   "outputs": [],
   "source": [
    "# Also asks whether thee number of heads is >= 3 *and* <= 7.\n",
    "3 <= np.sum(coins == 'heads') and np.sum(coins == 'heads') <= 7"
   ]
  },
  {
   "cell_type": "markdown",
   "id": "41faa42f",
   "metadata": {},
   "source": [
    "**End of note**\n",
    "\n"
   ]
  }
 ],
 "metadata": {
  "jupytext": {
   "cell_metadata_filter": "-all",
   "main_language": "python",
   "notebook_metadata_filter": "-all"
  },
  "kernelspec": {
   "display_name": "Python (Pyodide)",
   "name": "python"
  }
 },
 "nbformat": 4,
 "nbformat_minor": 5
}
