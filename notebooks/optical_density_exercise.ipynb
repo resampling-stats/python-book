{
 "cells": [
  {
   "cell_type": "markdown",
   "id": "e1765b7e",
   "metadata": {},
   "source": [
    "# Optical density exercise\n"
   ]
  },
  {
   "cell_type": "code",
   "execution_count": null,
   "id": "6cee2c05",
   "metadata": {},
   "outputs": [],
   "source": [
    "import numpy as np\n",
    "import matplotlib.pyplot as plt\n",
    "\n",
    "rnd = np.random.default_rng()"
   ]
  },
  {
   "cell_type": "markdown",
   "id": "1bc66a5f",
   "metadata": {},
   "source": [
    "Suppose we have 10 measurements of Optical Density on a batch of HIV\n",
    "negative control samples:"
   ]
  },
  {
   "cell_type": "code",
   "execution_count": null,
   "id": "0d4f75ce",
   "metadata": {},
   "outputs": [],
   "source": [
    "density = np.array(\n",
    "    [.02, .026, .023, .017, .022, .019, .018, .018, .017, .022])"
   ]
  },
  {
   "cell_type": "markdown",
   "id": "fe836174",
   "metadata": {},
   "source": [
    "Derive a 95 percent confidence interval for the sample mean. Are there\n",
    "enough measurements to produce a satisfactory answer?"
   ]
  }
 ],
 "metadata": {
  "jupytext": {
   "cell_metadata_filter": "-all",
   "main_language": "python",
   "notebook_metadata_filter": "-all"
  }
 },
 "nbformat": 4,
 "nbformat_minor": 5
}
