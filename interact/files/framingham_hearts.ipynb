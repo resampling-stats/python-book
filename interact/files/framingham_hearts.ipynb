{
 "cells": [
  {
   "cell_type": "markdown",
   "id": "09f0e877",
   "metadata": {},
   "source": [
    "# Framingham heart data"
   ]
  },
  {
   "cell_type": "markdown",
   "id": "616f6dab",
   "metadata": {},
   "source": [
    "We use simulation to investigate the relationship between serum\n",
    "cholesterol and heart attacks in the Framingham data.\n",
    "\n",
    "Before come to the simulation, we need some new code to tune our\n",
    "histograms (see <a href=\"#sec-on-histograms\" class=\"quarto-xref\"><span\n",
    "class=\"quarto-unresolved-ref\">sec-on-histograms</span></a>). We are\n",
    "going to set the bins for the histogram using advanced ranges.\n",
    "\n",
    "### 21.2.8 Advanced ranges\n",
    "\n",
    "So far (<a href=\"#sec-ranges\" class=\"quarto-xref\"><span\n",
    "class=\"quarto-unresolved-ref\">sec-ranges</span></a>) we have used\n",
    "`np.arange` to make regular sequences of integers. For example, to make\n",
    "an array of the sequential integers from 3 through 12, we could use:"
   ]
  },
  {
   "cell_type": "code",
   "execution_count": null,
   "id": "7e5162b7",
   "metadata": {},
   "outputs": [],
   "source": [
    "np.arange(3, 13)"
   ]
  },
  {
   "cell_type": "markdown",
   "id": "6c1441f8",
   "metadata": {},
   "source": [
    "Sometimes we want to be able to specify a step size — the gap between\n",
    "the numbers in the sequence. In the sequence above, the gap (step)\n",
    "between each number is 1. We might want some other step size. To create\n",
    "a sequence of integers from 3 through 33 in steps of 5, we could write:"
   ]
  },
  {
   "cell_type": "code",
   "execution_count": null,
   "id": "cbe69ef0",
   "metadata": {},
   "outputs": [],
   "source": [
    "np.arange(3, 34, step=5)"
   ]
  },
  {
   "cell_type": "markdown",
   "id": "ad742b55",
   "metadata": {},
   "source": [
    "Read this as “give me the sequence (range) of numbers, starting at 3, up\n",
    "to but not including 34, in steps of 5.\n",
    "\n",
    "So far we have used integers as the start, stop and step values, but we\n",
    "could also use floating point values. For example, to get a sequence of\n",
    "values starting at 0.1 up to and including 0.9, in steps of 0.2:"
   ]
  },
  {
   "cell_type": "code",
   "execution_count": null,
   "id": "317c8a2b",
   "metadata": {},
   "outputs": [],
   "source": [
    "np.arange(0.1, 1, step=0.2)"
   ]
  },
  {
   "cell_type": "markdown",
   "id": "39e9feb9",
   "metadata": {},
   "source": [
    "### 21.2.9 Simulation for infarction and cholesterol\n",
    "\n",
    "With that background, we can proceed with the simulation."
   ]
  },
  {
   "cell_type": "code",
   "execution_count": null,
   "id": "6117c6ed",
   "metadata": {},
   "outputs": [],
   "source": [
    "import numpy as np\n",
    "import matplotlib.pyplot as plt\n",
    "\n",
    "rnd = np.random.default_rng()\n",
    "\n",
    "n = 10_000\n",
    "men = np.repeat(['infarction', 'no infarction'], [31, 574])\n",
    "\n",
    "n_high = 135  # Number of men with high cholesterol\n",
    "n_low = 470  # Number of men with low cholesterol\n",
    "\n",
    "infarct_differences = np.zeros(n)\n",
    "\n",
    "for i in range(n):\n",
    "    highs = rnd.choice(men, size=n_high)\n",
    "    lows = rnd.choice(men, size=n_low)\n",
    "    high_infarcts = np.sum(highs == 'infarction')\n",
    "    low_infarcts = np.sum(lows == 'infarction')\n",
    "    high_prop = high_infarcts / n_high\n",
    "    low_prop = low_infarcts / n_low\n",
    "    infarct_differences[i] = high_prop - low_prop\n",
    "\n",
    "# Set the histogram bin edges to the sequence starting at -0.1, up to (not\n",
    "# including) 0.1, in steps of 0.005.\n",
    "plt.hist(infarct_differences, bins=np.arange(-0.1, 0.1, 0.005))\n",
    "plt.title('Infarct proportion differences in null universe')\n",
    "\n",
    "# How often was the resampled difference >= the observed difference?\n",
    "k = np.sum(infarct_differences >= 0.029)\n",
    "# Convert this result to a proportion\n",
    "kk = k / n\n",
    "\n",
    "print('Proportion of trials with difference >= observed:',\n",
    "      np.round(kk, 2))"
   ]
  },
  {
   "cell_type": "markdown",
   "id": "dd5b4219",
   "metadata": {},
   "source": [
    "The results of the test using this program may be seen in the histogram.\n",
    "We find — perhaps surprisingly — that a difference as large as observed\n",
    "would occur by chance around 10 percent of the time. (If we were not\n",
    "guided by the theoretical expectation that high serum cholesterol\n",
    "produces heart disease, we might include the 10 percent difference going\n",
    "in the other direction, giving a 20 percent chance). Even a ten percent\n",
    "chance is sufficient to call into question the conclusion that high\n",
    "serum cholesterol is dangerous. At a minimum, this statistical result\n",
    "should call for more research before taking any strong action clinically\n",
    "or otherwise."
   ]
  }
 ],
 "metadata": {
  "jupytext": {
   "cell_metadata_filter": "-all",
   "main_language": "python",
   "notebook_metadata_filter": "-all"
  },
  "kernelspec": {
   "display_name": "Python (Pyodide)",
   "name": "python"
  }
 },
 "nbformat": 4,
 "nbformat_minor": 5
}
