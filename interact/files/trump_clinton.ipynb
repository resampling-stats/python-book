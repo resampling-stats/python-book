{
 "cells": [
  {
   "cell_type": "markdown",
   "id": "349e58cd",
   "metadata": {},
   "source": [
    "# Trump/Clinton poll simulation"
   ]
  },
  {
   "cell_type": "markdown",
   "id": "3cc9fb7a",
   "metadata": {},
   "source": [
    "What is the probability that a sample outcome such as actually observed\n",
    "(840 Trump, 660 Clinton) would occur by chance if Clinton is “really”\n",
    "ahead — that is, if Clinton has 50 percent (or more) of the support? To\n",
    "restate in sharper statistical language: What is the probability that\n",
    "the observed sample or one even more favorable to Trump would occur if\n",
    "the universe has a mean of 50 percent or below?\n",
    "\n",
    "Here is a procedure that responds to that question:\n",
    "\n",
    "1.  Create a benchmark universe with one ball marked “Trump” and another\n",
    "    marked “Clinton”\n",
    "2.  Draw a ball, record its marking, and replace. (We sample with\n",
    "    replacement to simulate the practically-infinite population of U. S.\n",
    "    voters.)\n",
    "3.  Repeat step 2 1500 times and count the number of “Trump”s. If 840 or\n",
    "    greater, record “Y”; otherwise, record “N.”\n",
    "4.  Repeat steps 3 and 4 perhaps 1000 or 10,000 times, and count the\n",
    "    number of “Y”s. The outcome estimates the probability that 840 or\n",
    "    more Trump choices would occur if the universe is “really” half or\n",
    "    more in favor of Clinton.\n",
    "\n",
    "Before we come to the simulation, we need some new code to tune our\n",
    "histograms (see <a href=\"#sec-on-histograms\" class=\"quarto-xref\"><span\n",
    "class=\"quarto-unresolved-ref\">sec-on-histograms</span></a>). We are\n",
    "going to set the bins for the histogram using advanced ranges.\n",
    "\n",
    "**Note: Note 21.2: Advanced ranges**\n",
    "\n",
    "So far (<a href=\"#sec-ranges\" class=\"quarto-xref\"><span\n",
    "class=\"quarto-unresolved-ref\">sec-ranges</span></a>) we have used\n",
    "`np.arange` to make regular sequences of integers. For example, to make\n",
    "an array of the sequential integers from 3 through 12, we could use:"
   ]
  },
  {
   "cell_type": "code",
   "execution_count": null,
   "id": "e58a7ca4",
   "metadata": {},
   "outputs": [],
   "source": [
    "np.arange(3, 13)"
   ]
  },
  {
   "cell_type": "markdown",
   "id": "9116ef97",
   "metadata": {},
   "source": [
    "Sometimes we want to be able to specify a step size — the gap between\n",
    "the numbers in the sequence. In the sequence above, the gap (step)\n",
    "between each number is 1. We might want some other step size. To create\n",
    "a sequence of integers from 3 through 33 in steps of 5, we could write:"
   ]
  },
  {
   "cell_type": "code",
   "execution_count": null,
   "id": "74fed795",
   "metadata": {},
   "outputs": [],
   "source": [
    "np.arange(3, 34, step=5)"
   ]
  },
  {
   "cell_type": "markdown",
   "id": "8553a823",
   "metadata": {},
   "source": [
    "Read this as “give me the sequence (range) of numbers, starting at 3, up\n",
    "to but not including 34, in steps of 5.\n",
    "\n",
    "So far we have used integers as the start, stop and step values, but we\n",
    "could also use floating point values. For example, to get a sequence of\n",
    "values starting at 0.1 up to and including 0.9, in steps of 0.2:"
   ]
  },
  {
   "cell_type": "code",
   "execution_count": null,
   "id": "4fbf1cc6",
   "metadata": {},
   "outputs": [],
   "source": [
    "np.arange(0.1, 1, step=0.2)"
   ]
  },
  {
   "cell_type": "markdown",
   "id": "e68d4ea0",
   "metadata": {},
   "source": [
    "**End of note**\n"
   ]
  },
  {
   "cell_type": "markdown",
   "id": "88de19ad",
   "metadata": {},
   "source": [
    "With that background, we can proceed with the Python implementation of\n",
    "the simulation procedure."
   ]
  },
  {
   "cell_type": "code",
   "execution_count": null,
   "id": "1263b3f5",
   "metadata": {},
   "outputs": [],
   "source": [
    "import numpy as np\n",
    "import matplotlib.pyplot as plt\n",
    "\n",
    "rnd = np.random.default_rng()\n",
    "\n",
    "# Number of repeats we will run.\n",
    "n = 10_000\n",
    "\n",
    "# Make an integer array to store the counts.\n",
    "trumps = np.zeros(n, dtype=int)\n",
    "\n",
    "for i in range(n):\n",
    "    votes = rnd.choice(['Trump', 'Clinton'], size=1500)\n",
    "    trumps[i] = np.sum(votes == 'Trump')\n",
    "\n",
    "# Integer bins from 670 through 830 in steps of 5.\n",
    "plt.hist(trumps, bins=range(670, 831, 5))\n",
    "plt.title('Number of Trump voters of 1500 in null-world simulation')\n",
    "\n",
    "# How often >= 840 Trump votes in random draw?\n",
    "k = np.sum(trumps >= 840)\n",
    "# As a proportion of simulated resamples.\n",
    "kk = k / n\n",
    "\n",
    "print('Proportion voting for Trump:', kk)"
   ]
  },
  {
   "cell_type": "markdown",
   "id": "1a01bad3",
   "metadata": {},
   "source": [
    "The value for `kk` is our estimate of the probability that Trump’s\n",
    "“victory” in the sample would occur by chance if he really were behind.\n",
    "In this case, our probability estimate is less than 1 in 10,000 (\\<\n",
    "0.0001)."
   ]
  }
 ],
 "metadata": {
  "jupytext": {
   "cell_metadata_filter": "-all",
   "main_language": "python",
   "notebook_metadata_filter": "-all"
  },
  "kernelspec": {
   "display_name": "Python (Pyodide)",
   "name": "python"
  }
 },
 "nbformat": 4,
 "nbformat_minor": 5
}
