{
 "cells": [
  {
   "cell_type": "markdown",
   "id": "3923259b",
   "metadata": {},
   "source": [
    "# A classic bootstrap example"
   ]
  },
  {
   "cell_type": "markdown",
   "id": "7bc342cc",
   "metadata": {},
   "source": [
    "Draw bootstrap samples from mouse survival data to compare actual mean\n",
    "difference to those observed in the null- (bootstrap) world."
   ]
  },
  {
   "cell_type": "code",
   "execution_count": null,
   "id": "ddead2c7",
   "metadata": {},
   "outputs": [],
   "source": [
    "import numpy as np\n",
    "import matplotlib.pyplot as plt\n",
    "\n",
    "# Set up the random number generator.\n",
    "rnd = np.random.default_rng()\n",
    "\n",
    "# Treatment group.\n",
    "treat = np.array([94, 38, 23, 197, 99, 16, 141])\n",
    "# control group\n",
    "control = np.array([52, 10, 40, 104, 51, 27, 146, 30, 46])\n",
    "\n",
    "# Observed difference in real world.\n",
    "actual_diff = np.mean(treat) - np.mean(control)\n",
    "\n",
    "# Set the number of trials.\n",
    "n_trials = 10_000\n",
    "\n",
    "# An empty array to store the trials.\n",
    "results = np.zeros(n_trials)\n",
    "\n",
    "# U is our universe (Step 2 above)\n",
    "u = np.concatenate([treat, control])\n",
    "\n",
    "# step 5 above.\n",
    "for i in range(n_trials):\n",
    "    # Step 3 above.\n",
    "    fake_treat = rnd.choice(u, size=7)\n",
    "    # Step 3\n",
    "    fake_control = rnd.choice(u, size=9)\n",
    "    # Step 4\n",
    "    mt = np.mean(fake_treat)\n",
    "    # Step 4\n",
    "    mc = np.mean(fake_control)\n",
    "    # Step 4\n",
    "    diff = mt - mc\n",
    "    # Step 4\n",
    "    results[i] = diff\n",
    "\n",
    "# Step 6\n",
    "plt.hist(results, bins=25)\n",
    "plt.title('Bootstrap distribution of mean differences in survival')\n",
    "plt.xlabel('Bootstrap mean treatment - mean control')\n",
    "\n",
    "# Step 6\n",
    "k = np.sum(results >= actual_diff)\n",
    "kk = k / n_trials\n",
    "print('Proportion bootstrap mean difference >= actual difference:', kk)"
   ]
  }
 ],
 "metadata": {
  "jupytext": {
   "cell_metadata_filter": "-all",
   "main_language": "python",
   "notebook_metadata_filter": "-all"
  },
  "kernelspec": {
   "display_name": "Python (Pyodide)",
   "name": "python"
  }
 },
 "nbformat": 4,
 "nbformat_minor": 5
}
