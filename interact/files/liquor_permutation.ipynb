{
 "cells": [
  {
   "cell_type": "markdown",
   "id": "7651d409",
   "metadata": {},
   "source": [
    "# Permutation test of public and private liquor prices"
   ]
  },
  {
   "cell_type": "markdown",
   "id": "c50360fe",
   "metadata": {},
   "source": [
    "This notebook asks the question whether the difference in the means of\n",
    "private and government-specified prices of a particular whiskey could\n",
    "plausibly have come about as a result of random sampling. It uses a\n",
    "permutation method, where we use a shuffled version of all 42 values to\n",
    "comprise our null-world samples."
   ]
  },
  {
   "cell_type": "code",
   "execution_count": null,
   "id": "178ff4af",
   "metadata": {},
   "outputs": [],
   "source": [
    "import numpy as np\n",
    "\n",
    "rnd = np.random.default_rng()\n",
    "\n",
    "# Import the plotting library\n",
    "import matplotlib.pyplot as plt"
   ]
  },
  {
   "cell_type": "code",
   "execution_count": null,
   "id": "0ed6f3bd",
   "metadata": {},
   "outputs": [],
   "source": [
    "# Load the data from a data file.\n",
    "prices_df = pd.read_csv('data/liquor_prices.csv')\n",
    "# Show this first five rows.\n",
    "prices_df.head()"
   ]
  },
  {
   "cell_type": "markdown",
   "id": "494e5581",
   "metadata": {},
   "source": [
    "Take all prices from the loaded data file, and convert into an arrays\n",
    "for each category."
   ]
  },
  {
   "cell_type": "code",
   "execution_count": null,
   "id": "fa51627f",
   "metadata": {},
   "outputs": [],
   "source": [
    "# Rows for private prices.\n",
    "priv_df = prices_df[prices_df['state_type'] == 'private']\n",
    "# Convert corresponding prices to array.\n",
    "priv = np.array(priv_df['price'])\n",
    "# Show the result\n",
    "priv"
   ]
  },
  {
   "cell_type": "code",
   "execution_count": null,
   "id": "8d114e7f",
   "metadata": {},
   "outputs": [],
   "source": [
    "# Rows for government prices.\n",
    "govt_df = prices_df[prices_df['state_type'] == 'government']\n",
    "# Convert corresponding prices to array.\n",
    "govt = np.array(govt_df['price'])\n",
    "# Show the result\n",
    "govt"
   ]
  },
  {
   "cell_type": "markdown",
   "id": "244e909e",
   "metadata": {},
   "source": [
    "Calculate actual difference:"
   ]
  },
  {
   "cell_type": "code",
   "execution_count": null,
   "id": "a77eac72",
   "metadata": {},
   "outputs": [],
   "source": [
    "actual_diff = np.mean(priv) - np.mean(govt)\n",
    "actual_diff"
   ]
  },
  {
   "cell_type": "markdown",
   "id": "0e178e56",
   "metadata": {},
   "source": [
    "Concatenate the private and government values into one array:"
   ]
  },
  {
   "cell_type": "code",
   "execution_count": null,
   "id": "e61e7565",
   "metadata": {},
   "outputs": [],
   "source": [
    "# Join the two arrays of data into one array.\n",
    "both = np.concatenate([priv, govt])\n",
    "both "
   ]
  },
  {
   "cell_type": "markdown",
   "id": "08096ed7",
   "metadata": {},
   "source": [
    "Do simulation:"
   ]
  },
  {
   "cell_type": "code",
   "execution_count": null,
   "id": "de292587",
   "metadata": {},
   "outputs": [],
   "source": [
    "n_trials = 10_000\n",
    "\n",
    "# Fake differences for each trial.\n",
    "results = np.zeros(n_trials)\n",
    "\n",
    "# Repeat 10000 simulation trials\n",
    "for i in range(n_trials):\n",
    "\n",
    "    # Shuffle 42 values to a random order.\n",
    "    shuffled = rnd.permuted(both)\n",
    "\n",
    "    # Take first 26 shuffled values as fake private group\n",
    "    fake_priv = shuffled[:26]\n",
    "\n",
    "    # Remaining values (from position 26 to end, 16 values)\n",
    "    # form the fake government group.\n",
    "    fake_govt = shuffled[26:]\n",
    "\n",
    "    # Find the mean of the \"private\" group.\n",
    "    p = np.mean(fake_priv)\n",
    "\n",
    "    # Mean of the \"govt.\" group\n",
    "    g = np.mean(fake_govt)\n",
    "\n",
    "    # Difference in the means\n",
    "    diff = p - g\n",
    "\n",
    "    # Keep score of the trials\n",
    "    results[i] = diff\n",
    "\n",
    "# Graph of simulation results to compare with the observed result.\n",
    "plt.hist(results, bins=25)\n",
    "plt.xlabel('Difference in average prices (cents)')\n",
    "plt.title('Average price difference (Actual difference = '\n",
    "f'{actual_diff * 100:.0f} cents)');\n",
    "\n",
    "# Number of trials where fake difference >= actual.\n",
    "k = np.sum(results >= actual_diff)\n",
    "kk = k / n_trials\n",
    "\n",
    "print('Proportion fake differences <= actual_difference:', kk)"
   ]
  }
 ],
 "metadata": {
  "jupytext": {
   "cell_metadata_filter": "-all",
   "main_language": "python",
   "notebook_metadata_filter": "-all"
  },
  "kernelspec": {
   "display_name": "Python (Pyodide)",
   "name": "python"
  }
 },
 "nbformat": 4,
 "nbformat_minor": 5
}
